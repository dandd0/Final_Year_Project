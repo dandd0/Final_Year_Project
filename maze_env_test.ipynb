{
 "cells": [
  {
   "cell_type": "code",
   "execution_count": 2,
   "metadata": {},
   "outputs": [
    {
     "data": {
      "text/plain": [
       "(array([[[1., 0., 0.],\n",
       "         [1., 0., 0.],\n",
       "         [1., 0., 0.],\n",
       "         ...,\n",
       "         [1., 0., 0.],\n",
       "         [1., 0., 0.],\n",
       "         [1., 0., 0.]],\n",
       " \n",
       "        [[1., 0., 0.],\n",
       "         [0., 0., 0.],\n",
       "         [0., 0., 0.],\n",
       "         ...,\n",
       "         [0., 0., 0.],\n",
       "         [0., 0., 0.],\n",
       "         [1., 0., 0.]],\n",
       " \n",
       "        [[1., 0., 0.],\n",
       "         [0., 0., 0.],\n",
       "         [1., 0., 0.],\n",
       "         ...,\n",
       "         [1., 0., 0.],\n",
       "         [1., 0., 0.],\n",
       "         [1., 0., 0.]],\n",
       " \n",
       "        ...,\n",
       " \n",
       "        [[1., 0., 0.],\n",
       "         [0., 0., 0.],\n",
       "         [1., 0., 0.],\n",
       "         ...,\n",
       "         [1., 0., 0.],\n",
       "         [0., 0., 0.],\n",
       "         [1., 0., 0.]],\n",
       " \n",
       "        [[1., 0., 0.],\n",
       "         [0., 0., 0.],\n",
       "         [0., 0., 0.],\n",
       "         ...,\n",
       "         [1., 0., 0.],\n",
       "         [0., 0., 0.],\n",
       "         [1., 0., 0.]],\n",
       " \n",
       "        [[1., 0., 0.],\n",
       "         [1., 0., 0.],\n",
       "         [1., 0., 0.],\n",
       "         ...,\n",
       "         [1., 0., 0.],\n",
       "         [1., 0., 0.],\n",
       "         [1., 0., 0.]]]),\n",
       " 0,\n",
       " False,\n",
       " False,\n",
       " {'action_mask': array([0, 0, 1, 1], dtype=int8)})"
      ]
     },
     "execution_count": 2,
     "metadata": {},
     "output_type": "execute_result"
    }
   ],
   "source": [
    "from maze_env import MazeEnv_v0\n",
    "from env_utils.PettingZooEnv_new import PettingZooEnv_new\n",
    "import supersuit\n",
    "import numpy as np\n",
    "from tianshou.env.utils import PettingZooEnv\n",
    "from pettingzoo.test import api_test\n",
    "\n",
    "maze = MazeEnv_v0.MazeEnv(render_mode=\"human\")\n",
    "maze.reset(seed=1)\n",
    "maze.last()"
   ]
  },
  {
   "cell_type": "code",
   "execution_count": 2,
   "metadata": {},
   "outputs": [
    {
     "data": {
      "image/png": "[encoded data removed]",
      "text/plain": [
       "<Figure size 640x480 with 1 Axes>"
      ]
     },
     "metadata": {},
     "output_type": "display_data"
    }
   ],
   "source": [
    "maze.step(2)"
   ]
  },
  {
   "cell_type": "code",
   "execution_count": 3,
   "metadata": {},
   "outputs": [
    {
     "data": {
      "text/plain": [
       "(2, 0, False, False, {'action_mask': array([0, 0, 1, 1], dtype=int8)})"
      ]
     },
     "execution_count": 3,
     "metadata": {},
     "output_type": "execute_result"
    }
   ],
   "source": [
    "maze.last()"
   ]
  },
  {
   "cell_type": "code",
   "execution_count": 74,
   "metadata": {},
   "outputs": [
    {
     "data": {
      "image/png": "[encoded data removed]",
      "text/plain": [
       "<Figure size 640x480 with 1 Axes>"
      ]
     },
     "metadata": {},
     "output_type": "display_data"
    }
   ],
   "source": [
    "maze.step(1)"
   ]
  },
  {
   "cell_type": "code",
   "execution_count": 75,
   "metadata": {},
   "outputs": [
    {
     "data": {
      "text/plain": [
       "({'observation': array([[[1., 1., 1., ..., 1., 1., 1.],\n",
       "          [1., 0., 0., ..., 0., 0., 1.],\n",
       "          [1., 0., 1., ..., 1., 1., 1.],\n",
       "          ...,\n",
       "          [1., 0., 1., ..., 1., 0., 1.],\n",
       "          [1., 0., 0., ..., 1., 0., 1.],\n",
       "          [1., 1., 1., ..., 1., 1., 1.]],\n",
       "  \n",
       "         [[0., 0., 0., ..., 0., 0., 0.],\n",
       "          [0., 0., 0., ..., 0., 0., 0.],\n",
       "          [0., 0., 0., ..., 0., 0., 0.],\n",
       "          ...,\n",
       "          [0., 0., 0., ..., 0., 0., 0.],\n",
       "          [0., 0., 0., ..., 0., 0., 0.],\n",
       "          [0., 0., 0., ..., 0., 0., 0.]],\n",
       "  \n",
       "         [[0., 0., 0., ..., 0., 0., 0.],\n",
       "          [0., 0., 0., ..., 0., 0., 0.],\n",
       "          [0., 0., 0., ..., 0., 0., 0.],\n",
       "          ...,\n",
       "          [0., 0., 0., ..., 0., 0., 0.],\n",
       "          [0., 0., 0., ..., 0., 0., 0.],\n",
       "          [0., 0., 0., ..., 0., 0., 0.]]]),\n",
       "  'action_mask': array([1, 0, 1, 0], dtype=int8)},\n",
       " -4,\n",
       " True,\n",
       " False,\n",
       " {})"
      ]
     },
     "execution_count": 75,
     "metadata": {},
     "output_type": "execute_result"
    }
   ],
   "source": [
    "maze.last()"
   ]
  },
  {
   "cell_type": "code",
   "execution_count": 9,
   "metadata": {},
   "outputs": [],
   "source": [
    "action = 1\n",
    "direction = maze._action_to_direction[action]\n",
    "new_loc = maze.agent_loc + direction\n",
    "new_loc_tup = tuple(new_loc)"
   ]
  },
  {
   "cell_type": "code",
   "execution_count": 9,
   "metadata": {},
   "outputs": [],
   "source": []
  },
  {
   "cell_type": "code",
   "execution_count": 11,
   "metadata": {},
   "outputs": [
    {
     "data": {
      "text/plain": [
       "False"
      ]
     },
     "execution_count": 11,
     "metadata": {},
     "output_type": "execute_result"
    }
   ],
   "source": [
    "maze.agent_loc == tuple(maze.exit)"
   ]
  },
  {
   "cell_type": "code",
   "execution_count": 9,
   "metadata": {},
   "outputs": [],
   "source": [
    "def preprocess_maze_env(render_mode=None):\n",
    "    env = MazeEnv_v0.env(render_mode=render_mode)\n",
    "    env = supersuit.multiagent_wrappers.pad_observations_v0(env)\n",
    "    #env = PettingZooEnv_new(env)\n",
    "    return env"
   ]
  },
  {
   "cell_type": "code",
   "execution_count": 3,
   "metadata": {},
   "outputs": [],
   "source": [
    "def preprocess_maze_env1(render_mode=None):\n",
    "    env = MazeEnv_v0.env(render_mode=render_mode)\n",
    "    env = supersuit.multiagent_wrappers.pad_observations_v0(env)\n",
    "    return PettingZooEnv(env)"
   ]
  },
  {
   "cell_type": "code",
   "execution_count": 5,
   "metadata": {},
   "outputs": [
    {
     "data": {
      "text/plain": [
       "({'agent_id': 'observer',\n",
       "  'obs': array([[[1., 0., 0.],\n",
       "          [1., 0., 0.],\n",
       "          [1., 0., 0.],\n",
       "          ...,\n",
       "          [1., 0., 0.],\n",
       "          [1., 0., 0.],\n",
       "          [1., 0., 0.]],\n",
       "  \n",
       "         [[1., 0., 0.],\n",
       "          [0., 0., 0.],\n",
       "          [0., 0., 0.],\n",
       "          ...,\n",
       "          [0., 0., 0.],\n",
       "          [0., 0., 0.],\n",
       "          [1., 0., 0.]],\n",
       "  \n",
       "         [[1., 0., 0.],\n",
       "          [0., 0., 0.],\n",
       "          [1., 0., 0.],\n",
       "          ...,\n",
       "          [1., 0., 0.],\n",
       "          [1., 0., 0.],\n",
       "          [1., 0., 0.]],\n",
       "  \n",
       "         ...,\n",
       "  \n",
       "         [[1., 0., 0.],\n",
       "          [0., 0., 0.],\n",
       "          [1., 0., 0.],\n",
       "          ...,\n",
       "          [1., 0., 0.],\n",
       "          [0., 0., 0.],\n",
       "          [1., 0., 0.]],\n",
       "  \n",
       "         [[1., 0., 0.],\n",
       "          [0., 0., 0.],\n",
       "          [0., 0., 0.],\n",
       "          ...,\n",
       "          [1., 0., 0.],\n",
       "          [0., 0., 0.],\n",
       "          [1., 0., 0.]],\n",
       "  \n",
       "         [[1., 0., 0.],\n",
       "          [1., 0., 0.],\n",
       "          [1., 0., 0.],\n",
       "          ...,\n",
       "          [1., 0., 0.],\n",
       "          [1., 0., 0.],\n",
       "          [1., 0., 0.]]]),\n",
       "  'mask': [True, True, True, True]},\n",
       " {'action_mask': array([0, 0, 1, 1], dtype=int8)})"
      ]
     },
     "execution_count": 5,
     "metadata": {},
     "output_type": "execute_result"
    }
   ],
   "source": [
    "env1 = preprocess_maze_env1()\n",
    "env1.reset(seed=1)"
   ]
  },
  {
   "cell_type": "code",
   "execution_count": 10,
   "metadata": {},
   "outputs": [],
   "source": [
    "env = preprocess_maze_env('human')\n",
    "env.reset(seed=1)"
   ]
  },
  {
   "cell_type": "code",
   "execution_count": 27,
   "metadata": {},
   "outputs": [
    {
     "data": {
      "image/png": "[encoded data removed]",
      "text/plain": [
       "<Figure size 640x480 with 1 Axes>"
      ]
     },
     "metadata": {},
     "output_type": "display_data"
    },
    {
     "data": {
      "text/plain": [
       "({'agent_id': 'observer',\n",
       "  'obs': array([[[1., 0., 0.],\n",
       "          [1., 0., 0.],\n",
       "          [1., 0., 0.],\n",
       "          ...,\n",
       "          [1., 0., 0.],\n",
       "          [1., 0., 0.],\n",
       "          [1., 0., 0.]],\n",
       "  \n",
       "         [[1., 0., 0.],\n",
       "          [0., 0., 0.],\n",
       "          [0., 0., 0.],\n",
       "          ...,\n",
       "          [0., 0., 0.],\n",
       "          [0., 0., 0.],\n",
       "          [1., 0., 0.]],\n",
       "  \n",
       "         [[1., 0., 0.],\n",
       "          [0., 0., 0.],\n",
       "          [1., 0., 0.],\n",
       "          ...,\n",
       "          [1., 0., 0.],\n",
       "          [1., 0., 0.],\n",
       "          [1., 0., 0.]],\n",
       "  \n",
       "         ...,\n",
       "  \n",
       "         [[1., 0., 0.],\n",
       "          [0., 0., 0.],\n",
       "          [1., 0., 0.],\n",
       "          ...,\n",
       "          [1., 0., 0.],\n",
       "          [0., 0., 0.],\n",
       "          [1., 0., 0.]],\n",
       "  \n",
       "         [[1., 0., 0.],\n",
       "          [0., 0., 0.],\n",
       "          [0., 0., 0.],\n",
       "          ...,\n",
       "          [1., 0., 0.],\n",
       "          [0., 0., 0.],\n",
       "          [1., 0., 0.]],\n",
       "  \n",
       "         [[1., 0., 0.],\n",
       "          [1., 0., 0.],\n",
       "          [1., 0., 0.],\n",
       "          ...,\n",
       "          [1., 0., 0.],\n",
       "          [1., 0., 0.],\n",
       "          [1., 0., 0.]]]),\n",
       "  'mask': [True, False, True, False]},\n",
       " [9, 9],\n",
       " True,\n",
       " False,\n",
       " {})"
      ]
     },
     "execution_count": 27,
     "metadata": {},
     "output_type": "execute_result"
    }
   ],
   "source": [
    "env.step(1)"
   ]
  },
  {
   "cell_type": "code",
   "execution_count": 11,
   "metadata": {},
   "outputs": [
    {
     "name": "stdout",
     "output_type": "stream",
     "text": [
      "Starting API test\n"
     ]
    },
    {
     "name": "stderr",
     "output_type": "stream",
     "text": [
      "c:\\Users\\Dickson Lim\\anaconda3\\lib\\site-packages\\pettingzoo\\test\\api_test.py:94: UserWarning: Observation is not NumPy array\n",
      "  warnings.warn(\"Observation is not NumPy array\")\n",
      "c:\\Users\\Dickson Lim\\anaconda3\\lib\\site-packages\\pettingzoo\\test\\api_test.py:177: UserWarning: We recommend agents to be named in the format <descriptor>_<number>, like \"player_0\"\n",
      "  warnings.warn(\n"
     ]
    },
    {
     "data": {
      "image/png": "[encoded data removed]",
      "text/plain": [
       "<Figure size 640x480 with 1 Axes>"
      ]
     },
     "metadata": {},
     "output_type": "display_data"
    },
    {
     "ename": "AssertionError",
     "evalue": "Out of bounds observation: [[[1. 0. 0.]\n  [1. 0. 0.]\n  [1. 0. 0.]\n  ...\n  [1. 0. 0.]\n  [1. 0. 0.]\n  [1. 0. 0.]]\n\n [[1. 0. 0.]\n  [0. 0. 0.]\n  [1. 0. 0.]\n  ...\n  [0. 0. 0.]\n  [0. 0. 0.]\n  [1. 0. 0.]]\n\n [[1. 0. 0.]\n  [0. 0. 0.]\n  [1. 0. 0.]\n  ...\n  [1. 0. 0.]\n  [0. 0. 0.]\n  [1. 0. 0.]]\n\n ...\n\n [[1. 0. 0.]\n  [0. 0. 0.]\n  [1. 0. 0.]\n  ...\n  [1. 0. 0.]\n  [0. 0. 0.]\n  [1. 0. 0.]]\n\n [[1. 0. 0.]\n  [0. 0. 0.]\n  [0. 0. 0.]\n  ...\n  [1. 0. 0.]\n  [0. 0. 0.]\n  [1. 0. 0.]]\n\n [[1. 0. 0.]\n  [1. 0. 0.]\n  [1. 0. 0.]\n  ...\n  [1. 0. 0.]\n  [1. 0. 0.]\n  [1. 0. 0.]]]",
     "output_type": "error",
     "traceback": [
      "\u001b[1;31m---------------------------------------------------------------------------\u001b[0m",
      "\u001b[1;31mAssertionError\u001b[0m                            Traceback (most recent call last)",
      "\u001b[1;32mf:\\Desktop\\University\\Exeter\\ECMM451 Final Year Project\\Final_Year_Project\\maze_env_test.ipynb Cell 14\u001b[0m in \u001b[0;36m1\n\u001b[1;32m----> <a href='vscode-notebook-cell:/f%3A/Desktop/University/Exeter/ECMM451%20Final%20Year%20Project/Final_Year_Project/maze_env_test.ipynb#X16sZmlsZQ%3D%3D?line=0'>1</a>\u001b[0m api_test(env, \u001b[39m10000\u001b[39;49m)\n",
      "File \u001b[1;32mc:\\Users\\Dickson Lim\\anaconda3\\lib\\site-packages\\pettingzoo\\test\\api_test.py:505\u001b[0m, in \u001b[0;36mapi_test\u001b[1;34m(env, num_cycles, verbose_progress)\u001b[0m\n\u001b[0;32m    501\u001b[0m test_observation_action_spaces(env, agent_0)\n\u001b[0;32m    503\u001b[0m progress_report(\u001b[39m\"\u001b[39m\u001b[39mFinished test_observation_action_spaces\u001b[39m\u001b[39m\"\u001b[39m)\n\u001b[1;32m--> 505\u001b[0m play_test(env, observation_0, num_cycles)\n\u001b[0;32m    507\u001b[0m progress_report(\u001b[39m\"\u001b[39m\u001b[39mFinished play test\u001b[39m\u001b[39m\"\u001b[39m)\n\u001b[0;32m    509\u001b[0m \u001b[39massert\u001b[39;00m \u001b[39misinstance\u001b[39m(env\u001b[39m.\u001b[39mrewards, \u001b[39mdict\u001b[39m), \u001b[39m\"\u001b[39m\u001b[39mrewards must be a dict\u001b[39m\u001b[39m\"\u001b[39m\n",
      "File \u001b[1;32mc:\\Users\\Dickson Lim\\anaconda3\\lib\\site-packages\\pettingzoo\\test\\api_test.py:384\u001b[0m, in \u001b[0;36mplay_test\u001b[1;34m(env, observation_0, num_cycles)\u001b[0m\n\u001b[0;32m    381\u001b[0m \u001b[39mif\u001b[39;00m \u001b[39mnot\u001b[39;00m env\u001b[39m.\u001b[39magents:\n\u001b[0;32m    382\u001b[0m     \u001b[39mbreak\u001b[39;00m\n\u001b[1;32m--> 384\u001b[0m \u001b[39massert\u001b[39;00m env\u001b[39m.\u001b[39mobservation_space(agent)\u001b[39m.\u001b[39mcontains(\n\u001b[0;32m    385\u001b[0m     prev_observe\n\u001b[0;32m    386\u001b[0m ), \u001b[39m\"\u001b[39m\u001b[39mOut of bounds observation: \u001b[39m\u001b[39m\"\u001b[39m \u001b[39m+\u001b[39m \u001b[39mstr\u001b[39m(prev_observe)\n\u001b[0;32m    388\u001b[0m \u001b[39mif\u001b[39;00m \u001b[39misinstance\u001b[39m(env\u001b[39m.\u001b[39mobservation_space(agent), gymnasium\u001b[39m.\u001b[39mspaces\u001b[39m.\u001b[39mBox):\n\u001b[0;32m    389\u001b[0m     \u001b[39massert\u001b[39;00m env\u001b[39m.\u001b[39mobservation_space(agent)\u001b[39m.\u001b[39mdtype \u001b[39m==\u001b[39m prev_observe\u001b[39m.\u001b[39mdtype\n",
      "\u001b[1;31mAssertionError\u001b[0m: Out of bounds observation: [[[1. 0. 0.]\n  [1. 0. 0.]\n  [1. 0. 0.]\n  ...\n  [1. 0. 0.]\n  [1. 0. 0.]\n  [1. 0. 0.]]\n\n [[1. 0. 0.]\n  [0. 0. 0.]\n  [1. 0. 0.]\n  ...\n  [0. 0. 0.]\n  [0. 0. 0.]\n  [1. 0. 0.]]\n\n [[1. 0. 0.]\n  [0. 0. 0.]\n  [1. 0. 0.]\n  ...\n  [1. 0. 0.]\n  [0. 0. 0.]\n  [1. 0. 0.]]\n\n ...\n\n [[1. 0. 0.]\n  [0. 0. 0.]\n  [1. 0. 0.]\n  ...\n  [1. 0. 0.]\n  [0. 0. 0.]\n  [1. 0. 0.]]\n\n [[1. 0. 0.]\n  [0. 0. 0.]\n  [0. 0. 0.]\n  ...\n  [1. 0. 0.]\n  [0. 0. 0.]\n  [1. 0. 0.]]\n\n [[1. 0. 0.]\n  [1. 0. 0.]\n  [1. 0. 0.]\n  ...\n  [1. 0. 0.]\n  [1. 0. 0.]\n  [1. 0. 0.]]]"
     ]
    }
   ],
   "source": [
    "api_test(env, 10000)"
   ]
  }
 ],
 "metadata": {
  "kernelspec": {
   "display_name": "base",
   "language": "python",
   "name": "python3"
  },
  "language_info": {
   "codemirror_mode": {
    "name": "ipython",
    "version": 3
   },
   "file_extension": ".py",
   "mimetype": "text/x-python",
   "name": "python",
   "nbconvert_exporter": "python",
   "pygments_lexer": "ipython3",
   "version": "3.9.13"
  },
  "orig_nbformat": 4
 },
 "nbformat": 4,
 "nbformat_minor": 2
}
