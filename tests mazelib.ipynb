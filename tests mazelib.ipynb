{
 "cells": [
  {
   "cell_type": "code",
   "execution_count": 1,
   "metadata": {},
   "outputs": [],
   "source": [
    "from maze_env.envs.mazelib import Maze\n",
    "from maze_env.envs.generate.BacktrackingGenerator import BacktrackingGenerator\n",
    "from maze_env.envs.solve.Collision import Collision\n",
    "from maze_env.envs.solve.Chain import Chain\n",
    "from maze_env.envs.solve.RandomMouse import RandomMouse\n",
    "from maze_env.envs.solve.BacktrackingSolver import BacktrackingSolver\n",
    "from maze_env.envs.solve.ShortestPath import ShortestPath\n",
    "from maze_env.envs.solve.ShortestPaths import ShortestPaths\n",
    "from maze_env.envs.solve.Tremaux import Tremaux\n",
    "import numpy as np\n",
    "import matplotlib.pyplot as plt\n",
    "import cv2"
   ]
  },
  {
   "cell_type": "code",
   "execution_count": 22,
   "metadata": {},
   "outputs": [],
   "source": [
    "def showPNG(maze, point=None):\n",
    "    \"\"\"Generate a simple image of the maze.\"\"\"\n",
    "    plt.figure(figsize=(10, 5))\n",
    "    plt.imshow(maze.grid, cmap=plt.cm.binary, interpolation='nearest', origin='upper')\n",
    "    if maze.start:\n",
    "        plt.scatter(x=maze.start[1], y=maze.start[0], c=\"red\")\n",
    "        plt.scatter(x=maze.end[1], y=maze.end[0], c=\"blue\")\n",
    "    if maze.solutions:\n",
    "        sols = np.array(maze.solutions[0]).T\n",
    "        plt.scatter(x=sols[1], y=sols[0], c=\"green\", s=4)\n",
    "    if isinstance(point, np.ndarray):\n",
    "        plt.scatter(point[1], point[0], c=\"purple\")\n",
    "    plt.xticks([]), plt.yticks([])\n",
    "    plt.show()"
   ]
  },
  {
   "cell_type": "code",
   "execution_count": 9,
   "metadata": {},
   "outputs": [
    {
     "name": "stdout",
     "output_type": "stream",
     "text": [
      "11\n"
     ]
    },
    {
     "data": {
      "image/png": "[encoded data removed]",
      "text/plain": [
       "<Figure size 1000x500 with 1 Axes>"
      ]
     },
     "metadata": {},
     "output_type": "display_data"
    }
   ],
   "source": [
    "seed = 13\n",
    "m = Maze(seed)\n",
    "m.generator = BacktrackingGenerator(6,6)\n",
    "m.generate()\n",
    "m.generate_entrances(False, False)\n",
    "m.solver = Collision()\n",
    "m.solve()\n",
    "print(len(m.solutions[0]))\n",
    "showPNG(m)"
   ]
  },
  {
   "cell_type": "code",
   "execution_count": 8,
   "metadata": {},
   "outputs": [
    {
     "data": {
      "text/plain": [
       "127"
      ]
     },
     "execution_count": 8,
     "metadata": {},
     "output_type": "execute_result"
    }
   ],
   "source": [
    "len(m.grid)**2 - np.sum(m.grid)"
   ]
  },
  {
   "cell_type": "code",
   "execution_count": 269,
   "metadata": {},
   "outputs": [
    {
     "data": {
      "text/plain": [
       "<matplotlib.image.AxesImage at 0x1a8858af700>"
      ]
     },
     "execution_count": 269,
     "metadata": {},
     "output_type": "execute_result"
    },
    {
     "data": {
      "image/png": "[encoded data removed]",
      "text/plain": [
       "<Figure size 640x480 with 1 Axes>"
      ]
     },
     "metadata": {},
     "output_type": "display_data"
    }
   ],
   "source": [
    "grid = (1-m.grid)*255\n",
    "grid = grid[:,:,np.newaxis]\n",
    "grid2 = np.concatenate((grid, grid, grid), axis=2)\n",
    "plt.imshow(grid2)"
   ]
  },
  {
   "cell_type": "code",
   "execution_count": 8,
   "metadata": {},
   "outputs": [
    {
     "name": "stdout",
     "output_type": "stream",
     "text": [
      "(13, 11)\n"
     ]
    },
    {
     "data": {
      "image/png": "[encoded data removed]",
      "text/plain": [
       "<Figure size 1000x500 with 1 Axes>"
      ]
     },
     "metadata": {},
     "output_type": "display_data"
    }
   ],
   "source": [
    "new_start = m.start + np.array([1,0])\n",
    "m.start = tuple(new_start)\n",
    "print(m.start)\n",
    "showPNG(m)"
   ]
  },
  {
   "cell_type": "code",
   "execution_count": 140,
   "metadata": {},
   "outputs": [],
   "source": [
    "legal_moves = []\n",
    "agent_loc_r, agent_loc_c = m.start\n",
    "# check if can move up\n",
    "if m.grid[agent_loc_r-1, agent_loc_c] == 0:\n",
    "    legal_moves += [0]\n",
    "# down\n",
    "if m.grid[agent_loc_r+1, agent_loc_c] == 0:\n",
    "    legal_moves += [1]\n",
    "# right\n",
    "if m.grid[agent_loc_r, agent_loc_c+1] == 0:\n",
    "    legal_moves += [2]\n",
    "# left\n",
    "if m.grid[agent_loc_r, agent_loc_c-1] == 0:\n",
    "    legal_moves += [3]"
   ]
  },
  {
   "cell_type": "code",
   "execution_count": 141,
   "metadata": {},
   "outputs": [],
   "source": [
    "agent_loc = np.zeros(m.grid.shape)\n",
    "agent_loc[m.start] = 1\n",
    "exit_loc = np.zeros(m.grid.shape)\n",
    "exit_loc[m.end] = 1\n",
    "b = np.array([m.grid, agent_loc, exit_loc])"
   ]
  },
  {
   "cell_type": "code",
   "execution_count": 27,
   "metadata": {},
   "outputs": [
    {
     "data": {
      "text/plain": [
       "(11, 11)"
      ]
     },
     "execution_count": 27,
     "metadata": {},
     "output_type": "execute_result"
    }
   ],
   "source": [
    "m.start"
   ]
  },
  {
   "cell_type": "code",
   "execution_count": 29,
   "metadata": {},
   "outputs": [
    {
     "data": {
      "text/plain": [
       "(3, 11)"
      ]
     },
     "execution_count": 29,
     "metadata": {},
     "output_type": "execute_result"
    }
   ],
   "source": [
    "m.end"
   ]
  },
  {
   "cell_type": "code",
   "execution_count": 6,
   "metadata": {},
   "outputs": [
    {
     "data": {
      "text/plain": [
       "[[(10, 11),\n",
       "  (9, 11),\n",
       "  (9, 10),\n",
       "  (9, 9),\n",
       "  (8, 9),\n",
       "  (7, 9),\n",
       "  (6, 9),\n",
       "  (5, 9),\n",
       "  (5, 10),\n",
       "  (5, 11),\n",
       "  (4, 11)]]"
      ]
     },
     "execution_count": 6,
     "metadata": {},
     "output_type": "execute_result"
    }
   ],
   "source": [
    "m.solutions"
   ]
  },
  {
   "cell_type": "code",
   "execution_count": 50,
   "metadata": {},
   "outputs": [
    {
     "data": {
      "text/plain": [
       "False"
      ]
     },
     "execution_count": 50,
     "metadata": {},
     "output_type": "execute_result"
    }
   ],
   "source": [
    "(11,4) in a"
   ]
  },
  {
   "cell_type": "code",
   "execution_count": 2,
   "metadata": {},
   "outputs": [
    {
     "name": "stdout",
     "output_type": "stream",
     "text": [
      "0\n",
      "1000\n",
      "2000\n",
      "3000\n",
      "4000\n",
      "5000\n",
      "6000\n",
      "7000\n",
      "8000\n",
      "9000\n"
     ]
    }
   ],
   "source": [
    "for i in range(10000):\n",
    "    m = Maze(i)\n",
    "    m.grid = np.ones((13,13))\n",
    "    m.grid[1:-1,1:-1] = np.zeros((11,11))\n",
    "    m.generate_entrances()\n",
    "    \n",
    "    #m.solver = ShortestPath()\n",
    "    #m.solve()\n",
    "\n",
    "    start_0, start_1 = m.start\n",
    "    if (start_0 == 0 and start_1 == 0) or (start_0 == 12 and start_1 == 0) or (start_0 == 0 and start_1 == 12) or (start_0 == 12 and start_1 == 12):\n",
    "        print(f\"corner at seed: {i}\")\n",
    "        break"
   ]
  },
  {
   "cell_type": "code",
   "execution_count": 16,
   "metadata": {},
   "outputs": [
    {
     "data": {
      "image/png": "[encoded data removed]",
      "text/plain": [
       "<Figure size 1000x500 with 1 Axes>"
      ]
     },
     "metadata": {},
     "output_type": "display_data"
    }
   ],
   "source": [
    "m = Maze(5)\n",
    "m.grid = np.ones((13,13))\n",
    "m.grid[1:-1,1:-1] = np.zeros((11,11))\n",
    "m.generate_entrances()\n",
    "m.solver = ShortestPath()\n",
    "m.solve()\n",
    "showPNG(m)"
   ]
  },
  {
   "cell_type": "code",
   "execution_count": 35,
   "metadata": {},
   "outputs": [
    {
     "data": {
      "image/png": "[encoded data removed]",
      "text/plain": [
       "<Figure size 1000x500 with 1 Axes>"
      ]
     },
     "metadata": {},
     "output_type": "display_data"
    }
   ],
   "source": [
    "b = np.array(m.start)\n",
    "c = np.array(m.end)\n",
    "d = np.array([1,1])\n",
    "showPNG(m, d)"
   ]
  },
  {
   "cell_type": "code",
   "execution_count": 30,
   "metadata": {},
   "outputs": [
    {
     "data": {
      "text/plain": [
       "array([False, False])"
      ]
     },
     "execution_count": 30,
     "metadata": {},
     "output_type": "execute_result"
    }
   ],
   "source": [
    "(np.array(m.end)-np.array(d) == np.array([-1,0]))"
   ]
  },
  {
   "cell_type": "code",
   "execution_count": 36,
   "metadata": {},
   "outputs": [],
   "source": [
    "legal_moves = []\n",
    "agent_loc_r, agent_loc_c = tuple(d)\n",
    "\n",
    "# check if can move up (or its exit)\n",
    "if (m.grid[agent_loc_r-1, agent_loc_c] == 0):\n",
    "    legal_moves += [0]\n",
    "# down\n",
    "if (m.grid[agent_loc_r+1, agent_loc_c] == 0):\n",
    "    legal_moves += [1]\n",
    "# right\n",
    "if (m.grid[agent_loc_r, agent_loc_c+1] == 0):\n",
    "    legal_moves += [2]\n",
    "# left\n",
    "if (m.grid[agent_loc_r, agent_loc_c-1] == 0):\n",
    "    legal_moves += [3]"
   ]
  },
  {
   "cell_type": "code",
   "execution_count": 37,
   "metadata": {},
   "outputs": [
    {
     "data": {
      "text/plain": [
       "[]"
      ]
     },
     "execution_count": 37,
     "metadata": {},
     "output_type": "execute_result"
    }
   ],
   "source": [
    "legal_moves"
   ]
  },
  {
   "cell_type": "code",
   "execution_count": 41,
   "metadata": {},
   "outputs": [
    {
     "name": "stdout",
     "output_type": "stream",
     "text": [
      "n\n"
     ]
    }
   ],
   "source": [
    "if (b == (0 or m.grid.shape[0]-1)) or (c == (0 or m.grid.shape[1]-1)):\n",
    "    print(\"y\")\n",
    "else:\n",
    "    print(\"n\")"
   ]
  },
  {
   "cell_type": "code",
   "execution_count": 46,
   "metadata": {},
   "outputs": [
    {
     "ename": "IndexError",
     "evalue": "index 13 is out of bounds for axis 1 with size 13",
     "output_type": "error",
     "traceback": [
      "\u001b[1;31m---------------------------------------------------------------------------\u001b[0m",
      "\u001b[1;31mIndexError\u001b[0m                                Traceback (most recent call last)",
      "\u001b[1;32mf:\\Desktop\\University\\Exeter\\ECMM451 Final Year Project\\Final_Year_Project\\tests mazelib.ipynb Cell 20\u001b[0m in \u001b[0;36m1\n\u001b[1;32m----> <a href='vscode-notebook-cell:/f%3A/Desktop/University/Exeter/ECMM451%20Final%20Year%20Project/Final_Year_Project/tests%20mazelib.ipynb#X25sZmlsZQ%3D%3D?line=0'>1</a>\u001b[0m m\u001b[39m.\u001b[39;49mgrid[b,c]\n",
      "\u001b[1;31mIndexError\u001b[0m: index 13 is out of bounds for axis 1 with size 13"
     ]
    }
   ],
   "source": [
    "m.grid[b,c]"
   ]
  }
 ],
 "metadata": {
  "kernelspec": {
   "display_name": "base",
   "language": "python",
   "name": "python3"
  },
  "language_info": {
   "codemirror_mode": {
    "name": "ipython",
    "version": 3
   },
   "file_extension": ".py",
   "mimetype": "text/x-python",
   "name": "python",
   "nbconvert_exporter": "python",
   "pygments_lexer": "ipython3",
   "version": "3.9.13"
  },
  "orig_nbformat": 4
 },
 "nbformat": 4,
 "nbformat_minor": 2
}
