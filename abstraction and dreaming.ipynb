{
 "cells": [
  {
   "attachments": {},
   "cell_type": "markdown",
   "metadata": {},
   "source": [
    "# boiler plate shit"
   ]
  },
  {
   "cell_type": "code",
   "execution_count": 1,
   "metadata": {},
   "outputs": [],
   "source": [
    "from maze_env import MazeEnv_v0\n",
    "from utils.PettingZooEnv_new import PettingZooEnv_new\n",
    "from utils.training_utils import *\n",
    "import supersuit\n",
    "import numpy as np\n",
    "import tianshou as ts\n",
    "import torch\n",
    "import torch.nn as nn\n",
    "from collections import deque, Counter\n",
    "\n",
    "from abstraction import generate_abstractions\n",
    "from policy import DQNPolicy_new\n",
    "from utils.training_utils import *"
   ]
  },
  {
   "cell_type": "code",
   "execution_count": 2,
   "metadata": {},
   "outputs": [],
   "source": [
    "eps_train, eps_test = 0.95, 0.0 # exploration rate for training and testing respectively\n",
    "eps_decay, eps_min = 0.999, 0.15 # the exploration rate decay and the minimum exploration rate\n",
    "lr, epochs, batch_size = 5e-4, 150, 512 # the learning rate, max epochs per new maze intro and the update batch size\n",
    "gamma, n_step, target_update_freq = 0.9, 3, 100 # gamma in dqn formula, number of steps to look ahead, number of update calls before updating target network\n",
    "train_num, test_num = 10, 1 # num of simultaneous training and testing environments respectively\n",
    "buffer_size = 30000 # buffer size\n",
    "step_per_epoch, step_per_collect, ep_per_collect = 10000, 200, 1 # number of steps for each epoch, number of steps to collect before updating, number of episodes before updating\n",
    "maze_width = 6 # maze width (not incl. walls)\n",
    "high_eps_run, obs_train, passed_mazes = False, True, True # for random high eps run, for interleaving (might be broken?), whether the policies passed the mazes\n",
    "steps_total, steps_n = 0, 0 # steps count total, steps count within epoch\n",
    "n_mazes, total_mazes = 0, 26 # start with 3 (it will add one later) mazes initially to prevent single maze overfitting, total number of random mazes\n",
    "# for the trivial maze, we use 36 (since it should be 'easier')\n",
    "test_mazes = [] # for printing later\n",
    "threshold_rew = 0.5 # threshold reward to consider a maze passed (tentative value)\n",
    "\n",
    "max_actions = 8 # number of abstractions is: max_actions-5"
   ]
  },
  {
   "cell_type": "code",
   "execution_count": 3,
   "metadata": {},
   "outputs": [
    {
     "name": "stderr",
     "output_type": "stream",
     "text": [
      "f:\\Desktop\\University\\Exeter\\ECMM451 Final Year Project\\Final_Year_Project\\maze_env\\envs\\mazelib.py:32: DeprecationWarning: Seeding based on hashing is deprecated\n",
      "since Python 3.9 and will be removed in a subsequent version. The only \n",
      "supported seed types are: None, int, float, str, bytes, and bytearray.\n",
      "  random.seed(seed)\n",
      "f:\\Desktop\\University\\Exeter\\ECMM451 Final Year Project\\Final_Year_Project\\maze_env\\envs\\mazelib.py:32: DeprecationWarning: Seeding based on hashing is deprecated\n",
      "since Python 3.9 and will be removed in a subsequent version. The only \n",
      "supported seed types are: None, int, float, str, bytes, and bytearray.\n",
      "  random.seed(seed)\n"
     ]
    }
   ],
   "source": [
    "# get the vectorized training/testing environments\n",
    "train_envs = ts.env.DummyVectorEnv([preprocess_maze_env for _ in range(train_num)])\n",
    "test_envs = ts.env.DummyVectorEnv([preprocess_maze_env for _ in range(test_num)])\n",
    "\n",
    "# set up training with no render environment\n",
    "env = preprocess_maze_env()\n",
    "\n",
    "# set up human render environment\n",
    "env_human = preprocess_maze_env(render_mode=\"human\")\n",
    "env_human = ts.env.DummyVectorEnv([lambda: env_human])\n",
    "\n",
    "# get agent names\n",
    "agents = env.agents\n",
    "\n",
    "# observation spaces/action spaces for the two agents\n",
    "state_shape = env.observation_space.shape or env.observation_space.n\n",
    "action_shape = env.action_space.shape or env.action_space.n\n",
    "\n",
    "# define DQN network (128x3 hidden units linear)\n",
    "#net_obs = Net(state_shape, action_shape, [128,128,128])\n",
    "#net_obs = Net(state_shape, action_shape, [512, 512, 512])\n",
    "net_obs = CNN(maze_width=6, max_actions=max_actions)\n",
    "optim_obs = torch.optim.Adam(params=net_obs.parameters(), lr=lr)\n",
    "\n",
    "#net_exp = Net(state_shape, action_shape, [8])\n",
    "#optim_exp = torch.optim.Adam(params=net_exp.parameters(), lr=lr)\n",
    "\n",
    "# set up policy and collectors\n",
    "agent_observer = ts.policy.DQNPolicy(net_obs, optim_obs, gamma, n_step, target_update_freq)\n",
    "#agent_explorer = ts.policy.DQNPolicy(net_exp, optim_exp, gamma, n_step, target_update_freq)\n",
    "#agent_policies = [agent_observer, agent_explorer]\n",
    "#agent_policies = [ts.policy.RandomPolicy(), ts.policy.RandomPolicy()] # baseline testing\n",
    "#policy = ts.policy.MultiAgentPolicyManager(agent_policies, env)\n",
    "\n",
    "policy = agent_observer\n",
    "\n",
    "# define the training collector (the calc q and step functions)\n",
    "train_collector = ts.data.Collector(\n",
    "    policy, \n",
    "    train_envs, \n",
    "    ts.data.VectorReplayBuffer(buffer_size, train_num),\n",
    "    exploration_noise=True\n",
    ")\n",
    "\n",
    "abstraction_buffer = ts.data.ReplayBuffer(100000)\n",
    "episode_history = deque(maxlen=500) # 500 most recent successful episodes"
   ]
  },
  {
   "cell_type": "code",
   "execution_count": 58,
   "metadata": {},
   "outputs": [
    {
     "data": {
      "text/plain": [
       "<All keys matched successfully>"
      ]
     },
     "execution_count": 58,
     "metadata": {},
     "output_type": "execute_result"
    }
   ],
   "source": [
    "policy.load_state_dict(torch.load(\"model/trivial_maze_baseline_20-6-23.pt\"))"
   ]
  },
  {
   "attachments": {},
   "cell_type": "markdown",
   "metadata": {},
   "source": [
    "---\n",
    "\n",
    "# policy testing for mapped actions"
   ]
  },
  {
   "cell_type": "code",
   "execution_count": 2,
   "metadata": {},
   "outputs": [],
   "source": [
    "mydict = {key:0 for key in range(5, 7)}"
   ]
  },
  {
   "cell_type": "code",
   "execution_count": 50,
   "metadata": {},
   "outputs": [],
   "source": [
    "mydict[5] = \"pp\""
   ]
  },
  {
   "cell_type": "code",
   "execution_count": 51,
   "metadata": {},
   "outputs": [
    {
     "data": {
      "text/plain": [
       "{5: 'pp', 6: 0}"
      ]
     },
     "execution_count": 51,
     "metadata": {},
     "output_type": "execute_result"
    }
   ],
   "source": [
    "mydict"
   ]
  },
  {
   "cell_type": "code",
   "execution_count": 48,
   "metadata": {},
   "outputs": [
    {
     "name": "stdout",
     "output_type": "stream",
     "text": [
      "is none\n"
     ]
    }
   ],
   "source": [
    "key=7\n",
    "if mydict.get(key) == 0:\n",
    "    print(\"no abs\")\n",
    "elif mydict.get(key) == None:\n",
    "    print(\"is none\")\n",
    "else:\n",
    "    print(\"asdasd\")"
   ]
  },
  {
   "cell_type": "code",
   "execution_count": 61,
   "metadata": {},
   "outputs": [
    {
     "ename": "AssertionError",
     "evalue": "bad key",
     "output_type": "error",
     "traceback": [
      "\u001b[1;31m---------------------------------------------------------------------------\u001b[0m",
      "\u001b[1;31mAssertionError\u001b[0m                            Traceback (most recent call last)",
      "\u001b[1;32mf:\\Desktop\\University\\Exeter\\ECMM451 Final Year Project\\Final_Year_Project\\abstraction and dreaming.ipynb Cell 18\u001b[0m in \u001b[0;36m2\n\u001b[0;32m      <a href='vscode-notebook-cell:/f%3A/Desktop/University/Exeter/ECMM451%20Final%20Year%20Project/Final_Year_Project/abstraction%20and%20dreaming.ipynb#X35sZmlsZQ%3D%3D?line=0'>1</a>\u001b[0m myarr \u001b[39m=\u001b[39m np\u001b[39m.\u001b[39marray([\u001b[39m6\u001b[39m])\n\u001b[1;32m----> <a href='vscode-notebook-cell:/f%3A/Desktop/University/Exeter/ECMM451%20Final%20Year%20Project/Final_Year_Project/abstraction%20and%20dreaming.ipynb#X35sZmlsZQ%3D%3D?line=1'>2</a>\u001b[0m \u001b[39massert\u001b[39;00m mydict[myarr[\u001b[39m0\u001b[39m]], \u001b[39m\"\u001b[39m\u001b[39mbad key\u001b[39m\u001b[39m\"\u001b[39m\n\u001b[0;32m      <a href='vscode-notebook-cell:/f%3A/Desktop/University/Exeter/ECMM451%20Final%20Year%20Project/Final_Year_Project/abstraction%20and%20dreaming.ipynb#X35sZmlsZQ%3D%3D?line=2'>3</a>\u001b[0m \u001b[39mprint\u001b[39m(mydict[myarr[\u001b[39m0\u001b[39m]])\n",
      "\u001b[1;31mAssertionError\u001b[0m: bad key"
     ]
    }
   ],
   "source": [
    "myarr = np.array([6])\n",
    "assert mydict[myarr[0]], \"bad key\"\n",
    "print(mydict[myarr[0]])"
   ]
  },
  {
   "cell_type": "code",
   "execution_count": 9,
   "metadata": {},
   "outputs": [],
   "source": [
    "abstraction = np.array([1,1,1,1,1])\n",
    "mydict[5] = abstraction"
   ]
  },
  {
   "cell_type": "code",
   "execution_count": 14,
   "metadata": {},
   "outputs": [
    {
     "name": "stdout",
     "output_type": "stream",
     "text": [
      "5\n"
     ]
    }
   ],
   "source": [
    "search_abs = np.array([1,1,1,1,1])\n",
    "for action, abstraction in mydict.items():\n",
    "    if np.all(abstraction == search_abs):\n",
    "        print(action)"
   ]
  },
  {
   "attachments": {},
   "cell_type": "markdown",
   "metadata": {},
   "source": [
    "---\n",
    "# environment testing"
   ]
  },
  {
   "cell_type": "code",
   "execution_count": 4,
   "metadata": {},
   "outputs": [
    {
     "name": "stdout",
     "output_type": "stream",
     "text": [
      "[2 1]\n"
     ]
    }
   ],
   "source": [
    "actions = np.array([[0,1], [1,0], [1,0]])\n",
    "direction = np.array([0,0])\n",
    "\n",
    "for action in actions:\n",
    "    direction += action\n",
    "print(direction)"
   ]
  },
  {
   "cell_type": "code",
   "execution_count": 12,
   "metadata": {},
   "outputs": [
    {
     "data": {
      "text/plain": [
       "[None]"
      ]
     },
     "execution_count": 12,
     "metadata": {},
     "output_type": "execute_result"
    }
   ],
   "source": [
    "obs, done = env_human.reset()\n",
    "batch = ts.data.Batch(obs = obs)\n",
    "batch.info = {}\n",
    "env_human.render()"
   ]
  },
  {
   "cell_type": "code",
   "execution_count": 6,
   "metadata": {},
   "outputs": [
    {
     "name": "stdout",
     "output_type": "stream",
     "text": [
      "Action: [1]\n",
      "Batch(\n",
      "    obs: Batch(\n",
      "             agent_id: array(['observer'], dtype=object),\n",
      "             mask: array([[False,  True,  True, False, False]]),\n",
      "             obs: array([[[[1., 1., 1., 1., 1., 1., 1., 1., 1., 1., 1., 1., 1.],\n",
      "                           [1., 0., 0., 0., 0., 0., 1., 0., 0., 0., 0., 0., 1.],\n",
      "                           [1., 0., 1., 1., 1., 0., 1., 0., 1., 0., 1., 1., 1.],\n",
      "                           [1., 0., 0., 0., 1., 0., 1., 0., 1., 0., 0., 0., 1.],\n",
      "                           [1., 1., 1., 0., 1., 0., 1., 0., 1., 1., 1., 0., 1.],\n",
      "                           [1., 0., 0., 0., 1., 0., 1., 0., 0., 0., 1., 0., 1.],\n",
      "                           [1., 0., 1., 1., 1., 0., 1., 0., 1., 1., 1., 0., 1.],\n",
      "                           [1., 0., 0., 0., 1., 0., 0., 0., 1., 0., 0., 0., 1.],\n",
      "                           [1., 1., 1., 0., 1., 1., 1., 1., 1., 0., 1., 0., 1.],\n",
      "                           [1., 0., 1., 0., 1., 0., 1., 0., 0., 0., 1., 0., 1.],\n",
      "                           [1., 0., 1., 0., 1., 0., 1., 0., 1., 1., 1., 0., 1.],\n",
      "                           [1., 0., 0., 0., 0., 0., 1., 0., 1., 0., 0., 0., 1.],\n",
      "                           [1., 1., 1., 1., 1., 1., 1., 1., 1., 1., 1., 1., 1.]],\n",
      "                  \n",
      "                          [[0., 0., 0., 0., 0., 0., 0., 0., 0., 0., 0., 0., 0.],\n",
      "                           [0., 0., 0., 0., 0., 0., 0., 0., 0., 0., 0., 0., 0.],\n",
      "                           [0., 0., 0., 0., 0., 0., 0., 0., 0., 0., 0., 0., 0.],\n",
      "                           [0., 0., 0., 0., 0., 0., 0., 0., 0., 0., 0., 0., 0.],\n",
      "                           [0., 0., 0., 0., 0., 0., 0., 0., 0., 0., 0., 0., 0.],\n",
      "                           [0., 0., 0., 0., 0., 0., 0., 0., 0., 0., 0., 0., 0.],\n",
      "                           [0., 0., 0., 0., 0., 0., 0., 0., 0., 0., 0., 0., 0.],\n",
      "                           [0., 0., 0., 0., 0., 0., 0., 0., 0., 0., 0., 0., 0.],\n",
      "                           [0., 0., 0., 1., 0., 0., 0., 0., 0., 0., 0., 0., 0.],\n",
      "                           [0., 0., 0., 0., 0., 0., 0., 0., 0., 0., 0., 0., 0.],\n",
      "                           [0., 0., 0., 0., 0., 0., 0., 0., 0., 0., 0., 0., 0.],\n",
      "                           [0., 0., 0., 0., 0., 0., 0., 0., 0., 0., 0., 0., 0.],\n",
      "                           [0., 0., 0., 0., 0., 0., 0., 0., 0., 0., 0., 0., 0.]],\n",
      "                  \n",
      "                          [[0., 0., 0., 0., 0., 0., 0., 0., 0., 0., 0., 0., 0.],\n",
      "                           [0., 0., 0., 0., 0., 0., 0., 0., 0., 0., 0., 0., 0.],\n",
      "                           [0., 0., 0., 0., 0., 0., 0., 0., 0., 0., 0., 0., 0.],\n",
      "                           [0., 0., 0., 1., 0., 0., 0., 0., 0., 0., 0., 0., 0.],\n",
      "                           [0., 0., 0., 0., 0., 0., 0., 0., 0., 0., 0., 0., 0.],\n",
      "                           [0., 0., 0., 0., 0., 0., 0., 0., 0., 0., 0., 0., 0.],\n",
      "                           [0., 0., 0., 0., 0., 0., 0., 0., 0., 0., 0., 0., 0.],\n",
      "                           [0., 0., 0., 0., 0., 0., 0., 0., 0., 0., 0., 0., 0.],\n",
      "                           [0., 0., 0., 0., 0., 0., 0., 0., 0., 0., 0., 0., 0.],\n",
      "                           [0., 0., 0., 0., 0., 0., 0., 0., 0., 0., 0., 0., 0.],\n",
      "                           [0., 0., 0., 0., 0., 0., 0., 0., 0., 0., 0., 0., 0.],\n",
      "                           [0., 0., 0., 0., 0., 0., 0., 0., 0., 0., 0., 0., 0.],\n",
      "                           [0., 0., 0., 0., 0., 0., 0., 0., 0., 0., 0., 0., 0.]]]]),\n",
      "         ),\n",
      "    info: Batch(\n",
      "              env_id: array([0]),\n",
      "          ),\n",
      ")\n"
     ]
    }
   ],
   "source": [
    "act = np.array([1])\n",
    "obs, rew, truncated, terminated, info  = env_human.step(act)\n",
    "batch = ts.data.Batch(obs = obs)\n",
    "batch.info = info\n",
    "print(\"Action:\", act)\n",
    "print(batch)"
   ]
  },
  {
   "cell_type": "code",
   "execution_count": 11,
   "metadata": {},
   "outputs": [
    {
     "data": {
      "text/plain": [
       "array([2, 1])"
      ]
     },
     "execution_count": 11,
     "metadata": {},
     "output_type": "execute_result"
    }
   ],
   "source": [
    "(1, 0) + np.array([1, 1])"
   ]
  },
  {
   "cell_type": "code",
   "execution_count": 14,
   "metadata": {},
   "outputs": [
    {
     "name": "stdout",
     "output_type": "stream",
     "text": [
      "Action: [1]\n",
      "Batch(\n",
      "    obs: Batch(\n",
      "             agent_id: array(['observer'], dtype=object),\n",
      "             mask: array([[False, False,  True, False,  True]]),\n",
      "             obs: array([[[[1., 1., 1., 1., 1., 1., 1., 1., 1., 1., 1., 1., 1.],\n",
      "                           [1., 0., 0., 0., 0., 0., 1., 0., 0., 0., 0., 0., 1.],\n",
      "                           [1., 0., 1., 1., 1., 0., 1., 0., 1., 0., 1., 1., 1.],\n",
      "                           [1., 0., 0., 0., 1., 0., 1., 0., 1., 0., 0., 0., 1.],\n",
      "                           [1., 1., 1., 0., 1., 0., 1., 0., 1., 1., 1., 0., 1.],\n",
      "                           [1., 0., 0., 0., 1., 0., 1., 0., 0., 0., 1., 0., 1.],\n",
      "                           [1., 0., 1., 1., 1., 0., 1., 0., 1., 1., 1., 0., 1.],\n",
      "                           [1., 0., 0., 0., 1., 0., 0., 0., 1., 0., 0., 0., 1.],\n",
      "                           [1., 1., 1., 0., 1., 1., 1., 1., 1., 0., 1., 0., 1.],\n",
      "                           [1., 0., 1., 0., 1., 0., 1., 0., 0., 0., 1., 0., 1.],\n",
      "                           [1., 0., 1., 0., 1., 0., 1., 0., 1., 1., 1., 0., 1.],\n",
      "                           [1., 0., 0., 0., 0., 0., 1., 0., 1., 0., 0., 0., 1.],\n",
      "                           [1., 1., 1., 1., 1., 1., 1., 1., 1., 1., 1., 1., 1.]],\n",
      "                  \n",
      "                          [[0., 0., 0., 0., 0., 0., 0., 0., 0., 0., 0., 0., 0.],\n",
      "                           [0., 0., 0., 0., 0., 0., 0., 0., 0., 0., 0., 0., 0.],\n",
      "                           [0., 0., 0., 0., 0., 0., 0., 0., 0., 0., 0., 0., 0.],\n",
      "                           [0., 0., 0., 1., 0., 0., 0., 0., 0., 0., 0., 0., 0.],\n",
      "                           [0., 0., 0., 0., 0., 0., 0., 0., 0., 0., 0., 0., 0.],\n",
      "                           [0., 0., 0., 0., 0., 0., 0., 0., 0., 0., 0., 0., 0.],\n",
      "                           [0., 0., 0., 0., 0., 0., 0., 0., 0., 0., 0., 0., 0.],\n",
      "                           [0., 0., 0., 0., 0., 0., 0., 0., 0., 0., 0., 0., 0.],\n",
      "                           [0., 0., 0., 0., 0., 0., 0., 0., 0., 0., 0., 0., 0.],\n",
      "                           [0., 0., 0., 0., 0., 0., 0., 0., 0., 0., 0., 0., 0.],\n",
      "                           [0., 0., 0., 0., 0., 0., 0., 0., 0., 0., 0., 0., 0.],\n",
      "                           [0., 0., 0., 0., 0., 0., 0., 0., 0., 0., 0., 0., 0.],\n",
      "                           [0., 0., 0., 0., 0., 0., 0., 0., 0., 0., 0., 0., 0.]],\n",
      "                  \n",
      "                          [[0., 0., 0., 0., 0., 0., 0., 0., 0., 0., 0., 0., 0.],\n",
      "                           [0., 0., 0., 0., 0., 0., 0., 0., 0., 0., 0., 0., 0.],\n",
      "                           [0., 0., 0., 0., 0., 0., 0., 0., 0., 0., 0., 0., 0.],\n",
      "                           [0., 0., 0., 1., 0., 0., 0., 0., 0., 0., 0., 0., 0.],\n",
      "                           [0., 0., 0., 0., 0., 0., 0., 0., 0., 0., 0., 0., 0.],\n",
      "                           [0., 0., 0., 0., 0., 0., 0., 0., 0., 0., 0., 0., 0.],\n",
      "                           [0., 0., 0., 0., 0., 0., 0., 0., 0., 0., 0., 0., 0.],\n",
      "                           [0., 0., 0., 0., 0., 0., 0., 0., 0., 0., 0., 0., 0.],\n",
      "                           [0., 0., 0., 0., 0., 0., 0., 0., 0., 0., 0., 0., 0.],\n",
      "                           [0., 0., 0., 0., 0., 0., 0., 0., 0., 0., 0., 0., 0.],\n",
      "                           [0., 0., 0., 0., 0., 0., 0., 0., 0., 0., 0., 0., 0.],\n",
      "                           [0., 0., 0., 0., 0., 0., 0., 0., 0., 0., 0., 0., 0.],\n",
      "                           [0., 0., 0., 0., 0., 0., 0., 0., 0., 0., 0., 0., 0.]]]]),\n",
      "         ),\n",
      "    info: Batch(\n",
      "              env_id: array([0]),\n",
      "          ),\n",
      ")\n"
     ]
    }
   ],
   "source": [
    "abstraction = [np.array([1,1,4,4,1,1,3,3,1,1])]\n",
    "obs, rew, truncated, terminated, info  = env_human.step(abstraction)\n",
    "batch = ts.data.Batch(obs = obs)\n",
    "batch.info = info\n",
    "print(\"Action:\", act)\n",
    "print(batch)"
   ]
  },
  {
   "cell_type": "code",
   "execution_count": 8,
   "metadata": {},
   "outputs": [],
   "source": [
    "def check_legal_moves_abstractions(batch: ts.data.Batch, action_keys, abstraction_mask):\n",
    "    \"\"\"\n",
    "    We cannot check the legal moves in the environment due to some limitations with how the wrappers work,\n",
    "    So we have to check it in the policy itself.\n",
    "    This is kinda a half-assed way to do it, but whatever\n",
    "    \"\"\"\n",
    "    current_loc = np.where(batch.obs[1,:,:]==1)\n",
    "    obs = batch.obs[0,:,:]\n",
    "\n",
    "    # check the abstractions to see if they're valid\n",
    "    for key in action_keys:\n",
    "        wall = False\n",
    "        abstraction = abstractions[key]\n",
    "        current_loc1 = np.copy(current_loc).reshape(2)\n",
    "\n",
    "        # iterate through the actions one-by-one to see if if its valid\n",
    "        for action in abstraction:\n",
    "            direction = action_to_direction[action]\n",
    "            # find new location\n",
    "            new_loc = current_loc1 + direction\n",
    "            location = obs[tuple(new_loc)]\n",
    "            if int(location) == 1: # wall\n",
    "                abstraction_mask[key-5] = False\n",
    "                wall = True\n",
    "                break # if encouter wall, stop the abstraction validity search and set flag to true\n",
    "            else:\n",
    "                current_loc1 = new_loc # otherwise keep going\n",
    "\n",
    "        if wall:\n",
    "            continue\n",
    "        else:\n",
    "            # if no wall flag, the abstraction is valid.\n",
    "            abstraction_mask[key-5] = True\n",
    "    \n",
    "    return abstraction_mask\n",
    "\n",
    "def abstraction_action_mask(batch: ts.data.Batch):\n",
    "    # assume the mask is true/false boolean\n",
    "    abstraction_mask = np.full(7-5, False) # make an array with all false\n",
    "    keys = 5 # get the used actions keys (i.e. they have abstractions)\n",
    "\n",
    "    # check the legal moves of the abstractions\n",
    "    abstraction_mask = check_legal_moves_abstractions(batch, keys, abstraction_mask)\n",
    "\n",
    "    # modify the original mask\n",
    "    batch.obs.mask[0] = np.append(batch.obs.mask[0], abstraction_mask)\n",
    "\n",
    "action_to_direction = {\n",
    "            0: np.array([0,0]), # no movement\n",
    "            1: np.array([-1,0]), # up\n",
    "            2: np.array([1,0]), # down\n",
    "            3: np.array([0,1]), # right\n",
    "            4: np.array([0,-1]) # left\n",
    "        }"
   ]
  },
  {
   "cell_type": "code",
   "execution_count": null,
   "metadata": {},
   "outputs": [],
   "source": [
    "abstractions = {key:0 for key in range(5, 7)}\n",
    "abstraction[5] = np.array([1,1])"
   ]
  },
  {
   "attachments": {},
   "cell_type": "markdown",
   "metadata": {},
   "source": [
    "---\n",
    "# policy testing"
   ]
  },
  {
   "cell_type": "code",
   "execution_count": 6,
   "metadata": {},
   "outputs": [],
   "source": [
    "policy = DQNPolicy_new(8, net_obs, optim_obs, gamma, n_step, target_update_freq)\n",
    "collector_policy = ts.data.Collector(policy, env_human, ts.data.VectorReplayBuffer(buffer_size, train_num), exploration_noise=True)"
   ]
  },
  {
   "cell_type": "code",
   "execution_count": 51,
   "metadata": {},
   "outputs": [
    {
     "name": "stdout",
     "output_type": "stream",
     "text": [
      "Max actions reached. Cannot append any additional abstractions.\n"
     ]
    }
   ],
   "source": [
    "key = policy.add_abstraction(np.array([1,1,1]))"
   ]
  },
  {
   "cell_type": "code",
   "execution_count": 16,
   "metadata": {},
   "outputs": [],
   "source": [
    "policy.remove_abstraction(5)"
   ]
  },
  {
   "cell_type": "code",
   "execution_count": 52,
   "metadata": {},
   "outputs": [
    {
     "name": "stdout",
     "output_type": "stream",
     "text": [
      "[]\n",
      "[5, 6, 7]\n"
     ]
    }
   ],
   "source": [
    "print(policy.available_action_keys())\n",
    "print(policy.used_action_keys())"
   ]
  },
  {
   "cell_type": "code",
   "execution_count": 53,
   "metadata": {},
   "outputs": [
    {
     "name": "stdout",
     "output_type": "stream",
     "text": [
      "[array([1, 1])]\n",
      "[array([1, 3])]\n",
      "[array([1, 4])]\n"
     ]
    }
   ],
   "source": [
    "for i in range(5, 8):\n",
    "    print(policy.abstractions[i])"
   ]
  },
  {
   "cell_type": "code",
   "execution_count": 26,
   "metadata": {},
   "outputs": [
    {
     "data": {
      "text/plain": [
       "[array([1, 1])]"
      ]
     },
     "execution_count": 26,
     "metadata": {},
     "output_type": "execute_result"
    }
   ],
   "source": [
    "policy.map_action(np.array([5]))"
   ]
  },
  {
   "cell_type": "code",
   "execution_count": 7,
   "metadata": {},
   "outputs": [
    {
     "data": {
      "text/plain": [
       "[None]"
      ]
     },
     "execution_count": 7,
     "metadata": {},
     "output_type": "execute_result"
    }
   ],
   "source": [
    "obs, done = env_human.reset()\n",
    "batch = ts.data.Batch(obs = obs)\n",
    "batch.info = {}\n",
    "env_human.render()\n",
    "policy.set_eps(1)"
   ]
  },
  {
   "cell_type": "code",
   "execution_count": 19,
   "metadata": {},
   "outputs": [],
   "source": [
    "policy.set_eps(1)"
   ]
  },
  {
   "cell_type": "code",
   "execution_count": 49,
   "metadata": {},
   "outputs": [
    {
     "name": "stdout",
     "output_type": "stream",
     "text": [
      "before ----\n",
      " Batch(\n",
      "    obs: Batch(\n",
      "             agent_id: array(['observer'], dtype=object),\n",
      "             obs: array([[[[1., 1., 1., 1., 1., 1., 1., 1., 1., 1., 1., 1., 1.],\n",
      "                           [1., 0., 0., 0., 0., 0., 1., 0., 0., 0., 0., 0., 1.],\n",
      "                           [1., 0., 1., 1., 1., 0., 1., 0., 1., 0., 1., 1., 1.],\n",
      "                           [1., 0., 0., 0., 1., 0., 1., 0., 1., 0., 0., 0., 1.],\n",
      "                           [1., 1., 1., 0., 1., 0., 1., 0., 1., 1., 1., 0., 1.],\n",
      "                           [1., 0., 0., 0., 1., 0., 1., 0., 0., 0., 1., 0., 1.],\n",
      "                           [1., 0., 1., 1., 1., 0., 1., 0., 1., 1., 1., 0., 1.],\n",
      "                           [1., 0., 0., 0., 1., 0., 0., 0., 1., 0., 0., 0., 1.],\n",
      "                           [1., 1., 1., 0., 1., 1., 1., 1., 1., 0., 1., 0., 1.],\n",
      "                           [1., 0., 1., 0., 1., 0., 1., 0., 0., 0., 1., 0., 1.],\n",
      "                           [1., 0., 1., 0., 1., 0., 1., 0., 1., 1., 1., 0., 1.],\n",
      "                           [1., 0., 0., 0., 0., 0., 1., 0., 1., 0., 0., 0., 1.],\n",
      "                           [1., 1., 1., 1., 1., 1., 1., 1., 1., 1., 1., 1., 1.]],\n",
      "                  \n",
      "                          [[0., 0., 0., 0., 0., 0., 0., 0., 0., 0., 0., 0., 0.],\n",
      "                           [0., 0., 0., 0., 0., 0., 0., 0., 0., 0., 0., 0., 0.],\n",
      "                           [0., 0., 0., 0., 0., 0., 0., 0., 0., 0., 0., 0., 0.],\n",
      "                           [0., 0., 0., 0., 0., 0., 0., 0., 0., 0., 0., 0., 0.],\n",
      "                           [0., 0., 0., 0., 0., 0., 0., 0., 0., 0., 0., 0., 0.],\n",
      "                           [0., 0., 0., 1., 0., 0., 0., 0., 0., 0., 0., 0., 0.],\n",
      "                           [0., 0., 0., 0., 0., 0., 0., 0., 0., 0., 0., 0., 0.],\n",
      "                           [0., 0., 0., 0., 0., 0., 0., 0., 0., 0., 0., 0., 0.],\n",
      "                           [0., 0., 0., 0., 0., 0., 0., 0., 0., 0., 0., 0., 0.],\n",
      "                           [0., 0., 0., 0., 0., 0., 0., 0., 0., 0., 0., 0., 0.],\n",
      "                           [0., 0., 0., 0., 0., 0., 0., 0., 0., 0., 0., 0., 0.],\n",
      "                           [0., 0., 0., 0., 0., 0., 0., 0., 0., 0., 0., 0., 0.],\n",
      "                           [0., 0., 0., 0., 0., 0., 0., 0., 0., 0., 0., 0., 0.]],\n",
      "                  \n",
      "                          [[0., 0., 0., 0., 0., 0., 0., 0., 0., 0., 0., 0., 0.],\n",
      "                           [0., 0., 0., 0., 0., 0., 0., 0., 0., 0., 0., 0., 0.],\n",
      "                           [0., 0., 0., 0., 0., 0., 0., 0., 0., 0., 0., 0., 0.],\n",
      "                           [0., 0., 0., 1., 0., 0., 0., 0., 0., 0., 0., 0., 0.],\n",
      "                           [0., 0., 0., 0., 0., 0., 0., 0., 0., 0., 0., 0., 0.],\n",
      "                           [0., 0., 0., 0., 0., 0., 0., 0., 0., 0., 0., 0., 0.],\n",
      "                           [0., 0., 0., 0., 0., 0., 0., 0., 0., 0., 0., 0., 0.],\n",
      "                           [0., 0., 0., 0., 0., 0., 0., 0., 0., 0., 0., 0., 0.],\n",
      "                           [0., 0., 0., 0., 0., 0., 0., 0., 0., 0., 0., 0., 0.],\n",
      "                           [0., 0., 0., 0., 0., 0., 0., 0., 0., 0., 0., 0., 0.],\n",
      "                           [0., 0., 0., 0., 0., 0., 0., 0., 0., 0., 0., 0., 0.],\n",
      "                           [0., 0., 0., 0., 0., 0., 0., 0., 0., 0., 0., 0., 0.],\n",
      "                           [0., 0., 0., 0., 0., 0., 0., 0., 0., 0., 0., 0., 0.]]]]),\n",
      "             mask: array([[False,  True, False, False,  True]]),\n",
      "         ),\n",
      "    act: array([3], dtype=int64),\n",
      "    rew: array([[-0.00140845]]),\n",
      "    terminated: array([False]),\n",
      "    truncated: array([False]),\n",
      "    done: array([False]),\n",
      "    obs_next: Batch(\n",
      "                  agent_id: array(['observer'], dtype=object),\n",
      "                  obs: array([[[[1., 1., 1., 1., 1., 1., 1., 1., 1., 1., 1., 1., 1.],\n",
      "                                [1., 0., 0., 0., 0., 0., 1., 0., 0., 0., 0., 0., 1.],\n",
      "                                [1., 0., 1., 1., 1., 0., 1., 0., 1., 0., 1., 1., 1.],\n",
      "                                [1., 0., 0., 0., 1., 0., 1., 0., 1., 0., 0., 0., 1.],\n",
      "                                [1., 1., 1., 0., 1., 0., 1., 0., 1., 1., 1., 0., 1.],\n",
      "                                [1., 0., 0., 0., 1., 0., 1., 0., 0., 0., 1., 0., 1.],\n",
      "                                [1., 0., 1., 1., 1., 0., 1., 0., 1., 1., 1., 0., 1.],\n",
      "                                [1., 0., 0., 0., 1., 0., 0., 0., 1., 0., 0., 0., 1.],\n",
      "                                [1., 1., 1., 0., 1., 1., 1., 1., 1., 0., 1., 0., 1.],\n",
      "                                [1., 0., 1., 0., 1., 0., 1., 0., 0., 0., 1., 0., 1.],\n",
      "                                [1., 0., 1., 0., 1., 0., 1., 0., 1., 1., 1., 0., 1.],\n",
      "                                [1., 0., 0., 0., 0., 0., 1., 0., 1., 0., 0., 0., 1.],\n",
      "                                [1., 1., 1., 1., 1., 1., 1., 1., 1., 1., 1., 1., 1.]],\n",
      "                       \n",
      "                               [[0., 0., 0., 0., 0., 0., 0., 0., 0., 0., 0., 0., 0.],\n",
      "                                [0., 0., 0., 0., 0., 0., 0., 0., 0., 0., 0., 0., 0.],\n",
      "                                [0., 0., 0., 0., 0., 0., 0., 0., 0., 0., 0., 0., 0.],\n",
      "                                [0., 0., 0., 0., 0., 0., 0., 0., 0., 0., 0., 0., 0.],\n",
      "                                [0., 0., 0., 0., 0., 0., 0., 0., 0., 0., 0., 0., 0.],\n",
      "                                [0., 0., 0., 1., 0., 0., 0., 0., 0., 0., 0., 0., 0.],\n",
      "                                [0., 0., 0., 0., 0., 0., 0., 0., 0., 0., 0., 0., 0.],\n",
      "                                [0., 0., 0., 0., 0., 0., 0., 0., 0., 0., 0., 0., 0.],\n",
      "                                [0., 0., 0., 0., 0., 0., 0., 0., 0., 0., 0., 0., 0.],\n",
      "                                [0., 0., 0., 0., 0., 0., 0., 0., 0., 0., 0., 0., 0.],\n",
      "                                [0., 0., 0., 0., 0., 0., 0., 0., 0., 0., 0., 0., 0.],\n",
      "                                [0., 0., 0., 0., 0., 0., 0., 0., 0., 0., 0., 0., 0.],\n",
      "                                [0., 0., 0., 0., 0., 0., 0., 0., 0., 0., 0., 0., 0.]],\n",
      "                       \n",
      "                               [[0., 0., 0., 0., 0., 0., 0., 0., 0., 0., 0., 0., 0.],\n",
      "                                [0., 0., 0., 0., 0., 0., 0., 0., 0., 0., 0., 0., 0.],\n",
      "                                [0., 0., 0., 0., 0., 0., 0., 0., 0., 0., 0., 0., 0.],\n",
      "                                [0., 0., 0., 1., 0., 0., 0., 0., 0., 0., 0., 0., 0.],\n",
      "                                [0., 0., 0., 0., 0., 0., 0., 0., 0., 0., 0., 0., 0.],\n",
      "                                [0., 0., 0., 0., 0., 0., 0., 0., 0., 0., 0., 0., 0.],\n",
      "                                [0., 0., 0., 0., 0., 0., 0., 0., 0., 0., 0., 0., 0.],\n",
      "                                [0., 0., 0., 0., 0., 0., 0., 0., 0., 0., 0., 0., 0.],\n",
      "                                [0., 0., 0., 0., 0., 0., 0., 0., 0., 0., 0., 0., 0.],\n",
      "                                [0., 0., 0., 0., 0., 0., 0., 0., 0., 0., 0., 0., 0.],\n",
      "                                [0., 0., 0., 0., 0., 0., 0., 0., 0., 0., 0., 0., 0.],\n",
      "                                [0., 0., 0., 0., 0., 0., 0., 0., 0., 0., 0., 0., 0.],\n",
      "                                [0., 0., 0., 0., 0., 0., 0., 0., 0., 0., 0., 0., 0.]]]]),\n",
      "                  mask: array([[False,  True, False, False,  True]]),\n",
      "              ),\n",
      "    info: Batch(\n",
      "              env_id: array([0]),\n",
      "          ),\n",
      "    policy: Batch(),\n",
      ")\n",
      "(1, 5)\n",
      "[False False False]\n",
      "[ True False False]\n",
      "after ----\n",
      " Batch(\n",
      "    obs: Batch(\n",
      "             agent_id: array(['observer'], dtype=object),\n",
      "             obs: array([[[[1., 1., 1., 1., 1., 1., 1., 1., 1., 1., 1., 1., 1.],\n",
      "                           [1., 0., 0., 0., 0., 0., 1., 0., 0., 0., 0., 0., 1.],\n",
      "                           [1., 0., 1., 1., 1., 0., 1., 0., 1., 0., 1., 1., 1.],\n",
      "                           [1., 0., 0., 0., 1., 0., 1., 0., 1., 0., 0., 0., 1.],\n",
      "                           [1., 1., 1., 0., 1., 0., 1., 0., 1., 1., 1., 0., 1.],\n",
      "                           [1., 0., 0., 0., 1., 0., 1., 0., 0., 0., 1., 0., 1.],\n",
      "                           [1., 0., 1., 1., 1., 0., 1., 0., 1., 1., 1., 0., 1.],\n",
      "                           [1., 0., 0., 0., 1., 0., 0., 0., 1., 0., 0., 0., 1.],\n",
      "                           [1., 1., 1., 0., 1., 1., 1., 1., 1., 0., 1., 0., 1.],\n",
      "                           [1., 0., 1., 0., 1., 0., 1., 0., 0., 0., 1., 0., 1.],\n",
      "                           [1., 0., 1., 0., 1., 0., 1., 0., 1., 1., 1., 0., 1.],\n",
      "                           [1., 0., 0., 0., 0., 0., 1., 0., 1., 0., 0., 0., 1.],\n",
      "                           [1., 1., 1., 1., 1., 1., 1., 1., 1., 1., 1., 1., 1.]],\n",
      "                  \n",
      "                          [[0., 0., 0., 0., 0., 0., 0., 0., 0., 0., 0., 0., 0.],\n",
      "                           [0., 0., 0., 0., 0., 0., 0., 0., 0., 0., 0., 0., 0.],\n",
      "                           [0., 0., 0., 0., 0., 0., 0., 0., 0., 0., 0., 0., 0.],\n",
      "                           [0., 0., 0., 0., 0., 0., 0., 0., 0., 0., 0., 0., 0.],\n",
      "                           [0., 0., 0., 0., 0., 0., 0., 0., 0., 0., 0., 0., 0.],\n",
      "                           [0., 0., 0., 1., 0., 0., 0., 0., 0., 0., 0., 0., 0.],\n",
      "                           [0., 0., 0., 0., 0., 0., 0., 0., 0., 0., 0., 0., 0.],\n",
      "                           [0., 0., 0., 0., 0., 0., 0., 0., 0., 0., 0., 0., 0.],\n",
      "                           [0., 0., 0., 0., 0., 0., 0., 0., 0., 0., 0., 0., 0.],\n",
      "                           [0., 0., 0., 0., 0., 0., 0., 0., 0., 0., 0., 0., 0.],\n",
      "                           [0., 0., 0., 0., 0., 0., 0., 0., 0., 0., 0., 0., 0.],\n",
      "                           [0., 0., 0., 0., 0., 0., 0., 0., 0., 0., 0., 0., 0.],\n",
      "                           [0., 0., 0., 0., 0., 0., 0., 0., 0., 0., 0., 0., 0.]],\n",
      "                  \n",
      "                          [[0., 0., 0., 0., 0., 0., 0., 0., 0., 0., 0., 0., 0.],\n",
      "                           [0., 0., 0., 0., 0., 0., 0., 0., 0., 0., 0., 0., 0.],\n",
      "                           [0., 0., 0., 0., 0., 0., 0., 0., 0., 0., 0., 0., 0.],\n",
      "                           [0., 0., 0., 1., 0., 0., 0., 0., 0., 0., 0., 0., 0.],\n",
      "                           [0., 0., 0., 0., 0., 0., 0., 0., 0., 0., 0., 0., 0.],\n",
      "                           [0., 0., 0., 0., 0., 0., 0., 0., 0., 0., 0., 0., 0.],\n",
      "                           [0., 0., 0., 0., 0., 0., 0., 0., 0., 0., 0., 0., 0.],\n",
      "                           [0., 0., 0., 0., 0., 0., 0., 0., 0., 0., 0., 0., 0.],\n",
      "                           [0., 0., 0., 0., 0., 0., 0., 0., 0., 0., 0., 0., 0.],\n",
      "                           [0., 0., 0., 0., 0., 0., 0., 0., 0., 0., 0., 0., 0.],\n",
      "                           [0., 0., 0., 0., 0., 0., 0., 0., 0., 0., 0., 0., 0.],\n",
      "                           [0., 0., 0., 0., 0., 0., 0., 0., 0., 0., 0., 0., 0.],\n",
      "                           [0., 0., 0., 0., 0., 0., 0., 0., 0., 0., 0., 0., 0.]]]]),\n",
      "             mask: array([[False,  True, False, False,  True,  True, False, False]]),\n",
      "         ),\n",
      "    act: array([3], dtype=int64),\n",
      "    rew: array([[-0.00140845]]),\n",
      "    terminated: array([False]),\n",
      "    truncated: array([False]),\n",
      "    done: array([False]),\n",
      "    obs_next: Batch(\n",
      "                  agent_id: array(['observer'], dtype=object),\n",
      "                  obs: array([[[[1., 1., 1., 1., 1., 1., 1., 1., 1., 1., 1., 1., 1.],\n",
      "                                [1., 0., 0., 0., 0., 0., 1., 0., 0., 0., 0., 0., 1.],\n",
      "                                [1., 0., 1., 1., 1., 0., 1., 0., 1., 0., 1., 1., 1.],\n",
      "                                [1., 0., 0., 0., 1., 0., 1., 0., 1., 0., 0., 0., 1.],\n",
      "                                [1., 1., 1., 0., 1., 0., 1., 0., 1., 1., 1., 0., 1.],\n",
      "                                [1., 0., 0., 0., 1., 0., 1., 0., 0., 0., 1., 0., 1.],\n",
      "                                [1., 0., 1., 1., 1., 0., 1., 0., 1., 1., 1., 0., 1.],\n",
      "                                [1., 0., 0., 0., 1., 0., 0., 0., 1., 0., 0., 0., 1.],\n",
      "                                [1., 1., 1., 0., 1., 1., 1., 1., 1., 0., 1., 0., 1.],\n",
      "                                [1., 0., 1., 0., 1., 0., 1., 0., 0., 0., 1., 0., 1.],\n",
      "                                [1., 0., 1., 0., 1., 0., 1., 0., 1., 1., 1., 0., 1.],\n",
      "                                [1., 0., 0., 0., 0., 0., 1., 0., 1., 0., 0., 0., 1.],\n",
      "                                [1., 1., 1., 1., 1., 1., 1., 1., 1., 1., 1., 1., 1.]],\n",
      "                       \n",
      "                               [[0., 0., 0., 0., 0., 0., 0., 0., 0., 0., 0., 0., 0.],\n",
      "                                [0., 0., 0., 0., 0., 0., 0., 0., 0., 0., 0., 0., 0.],\n",
      "                                [0., 0., 0., 0., 0., 0., 0., 0., 0., 0., 0., 0., 0.],\n",
      "                                [0., 0., 0., 0., 0., 0., 0., 0., 0., 0., 0., 0., 0.],\n",
      "                                [0., 0., 0., 0., 0., 0., 0., 0., 0., 0., 0., 0., 0.],\n",
      "                                [0., 0., 0., 1., 0., 0., 0., 0., 0., 0., 0., 0., 0.],\n",
      "                                [0., 0., 0., 0., 0., 0., 0., 0., 0., 0., 0., 0., 0.],\n",
      "                                [0., 0., 0., 0., 0., 0., 0., 0., 0., 0., 0., 0., 0.],\n",
      "                                [0., 0., 0., 0., 0., 0., 0., 0., 0., 0., 0., 0., 0.],\n",
      "                                [0., 0., 0., 0., 0., 0., 0., 0., 0., 0., 0., 0., 0.],\n",
      "                                [0., 0., 0., 0., 0., 0., 0., 0., 0., 0., 0., 0., 0.],\n",
      "                                [0., 0., 0., 0., 0., 0., 0., 0., 0., 0., 0., 0., 0.],\n",
      "                                [0., 0., 0., 0., 0., 0., 0., 0., 0., 0., 0., 0., 0.]],\n",
      "                       \n",
      "                               [[0., 0., 0., 0., 0., 0., 0., 0., 0., 0., 0., 0., 0.],\n",
      "                                [0., 0., 0., 0., 0., 0., 0., 0., 0., 0., 0., 0., 0.],\n",
      "                                [0., 0., 0., 0., 0., 0., 0., 0., 0., 0., 0., 0., 0.],\n",
      "                                [0., 0., 0., 1., 0., 0., 0., 0., 0., 0., 0., 0., 0.],\n",
      "                                [0., 0., 0., 0., 0., 0., 0., 0., 0., 0., 0., 0., 0.],\n",
      "                                [0., 0., 0., 0., 0., 0., 0., 0., 0., 0., 0., 0., 0.],\n",
      "                                [0., 0., 0., 0., 0., 0., 0., 0., 0., 0., 0., 0., 0.],\n",
      "                                [0., 0., 0., 0., 0., 0., 0., 0., 0., 0., 0., 0., 0.],\n",
      "                                [0., 0., 0., 0., 0., 0., 0., 0., 0., 0., 0., 0., 0.],\n",
      "                                [0., 0., 0., 0., 0., 0., 0., 0., 0., 0., 0., 0., 0.],\n",
      "                                [0., 0., 0., 0., 0., 0., 0., 0., 0., 0., 0., 0., 0.],\n",
      "                                [0., 0., 0., 0., 0., 0., 0., 0., 0., 0., 0., 0., 0.],\n",
      "                                [0., 0., 0., 0., 0., 0., 0., 0., 0., 0., 0., 0., 0.]]]]),\n",
      "                  mask: array([[False,  True, False, False,  True,  True, False, False]]),\n",
      "              ),\n",
      "    info: Batch(\n",
      "              env_id: array([0]),\n",
      "          ),\n",
      "    policy: Batch(),\n",
      ")\n"
     ]
    },
    {
     "data": {
      "text/plain": [
       "{'n/ep': 0,\n",
       " 'n/st': 1,\n",
       " 'rews': array([], dtype=float64),\n",
       " 'lens': array([], dtype=int32),\n",
       " 'idxs': array([], dtype=int32),\n",
       " 'rew': 0,\n",
       " 'len': 0,\n",
       " 'rew_std': 0,\n",
       " 'len_std': 0}"
      ]
     },
     "execution_count": 49,
     "metadata": {},
     "output_type": "execute_result"
    }
   ],
   "source": [
    "collector_policy.collect(n_step=1, render=1/120)"
   ]
  },
  {
   "cell_type": "code",
   "execution_count": 45,
   "metadata": {},
   "outputs": [
    {
     "data": {
      "text/plain": [
       "[array([1, 4])]"
      ]
     },
     "execution_count": 45,
     "metadata": {},
     "output_type": "execute_result"
    }
   ],
   "source": [
    "policy.abstractions[7]"
   ]
  },
  {
   "cell_type": "code",
   "execution_count": 12,
   "metadata": {},
   "outputs": [
    {
     "data": {
      "text/plain": [
       "array([[False,  True,  True, False, False, False, False, False]])"
      ]
     },
     "execution_count": 12,
     "metadata": {},
     "output_type": "execute_result"
    }
   ],
   "source": [
    "mask = np.array([[False,  True,  True, False, False]])\n",
    "abstraction_mask = np.array([False, False, False])\n",
    "\n",
    "mask= np.array([np.concatenate([mask[0], abstraction_mask])])\n",
    "mask"
   ]
  },
  {
   "attachments": {},
   "cell_type": "markdown",
   "metadata": {},
   "source": [
    "---\n",
    "# sleeping & Dreaming"
   ]
  },
  {
   "cell_type": "code",
   "execution_count": 59,
   "metadata": {},
   "outputs": [
    {
     "name": "stdout",
     "output_type": "stream",
     "text": [
      "Best abstraction found: 433\n"
     ]
    }
   ],
   "source": [
    "mazes = 30\n",
    "policy.set_eps(0.4)\n",
    "train_collector.reset()\n",
    "episode_history = deque(maxlen=500) # 500 most recent successful episodes\n",
    "\n",
    "for _ in range(10):\n",
    "    train_collector.reset_env(gym_reset_kwargs={\"options\":{\"maze_type\":\"trivial\", \"n_mazes\":mazes, \"random\":True}})\n",
    "    result = train_collector.collect(n_episode=ep_per_collect, gym_reset_kwargs={\"options\":{\"maze_type\":\"trivial\", \"n_mazes\":mazes, \"random\":True}})\n",
    "\n",
    "    # add the successful episode steps into the episode history\n",
    "    if result['rews'] > threshold_rew:\n",
    "        episode_history.append(train_collector.buffer[int(result['idxs']):int(result['idxs'] + result['lens'])])\n",
    "\n",
    "abstraction = generate_abstractions(episode_history)"
   ]
  },
  {
   "cell_type": "code",
   "execution_count": 111,
   "metadata": {},
   "outputs": [],
   "source": [
    "current_loc = np.where(train_collector.buffer[0].obs.obs[1,:,:]==1)\n",
    "current_loc1 = np.copy(current_loc).reshape(2)\n",
    "obs = train_collector.buffer[0].obs.obs[0,:,:]"
   ]
  },
  {
   "cell_type": "code",
   "execution_count": 107,
   "metadata": {},
   "outputs": [],
   "source": [
    "direction = np.array([0,1])"
   ]
  },
  {
   "cell_type": "code",
   "execution_count": 108,
   "metadata": {},
   "outputs": [
    {
     "name": "stdout",
     "output_type": "stream",
     "text": [
      "[0 1]\n",
      "[0 1]\n"
     ]
    }
   ],
   "source": [
    "print(current_loc1)\n",
    "print(direction)"
   ]
  },
  {
   "cell_type": "code",
   "execution_count": 110,
   "metadata": {},
   "outputs": [
    {
     "name": "stdout",
     "output_type": "stream",
     "text": [
      "[0 2]\n"
     ]
    }
   ],
   "source": [
    "new_loc = current_loc1 + direction\n",
    "print(new_loc)"
   ]
  },
  {
   "cell_type": "code",
   "execution_count": 73,
   "metadata": {},
   "outputs": [],
   "source": [
    "abstraction\n",
    "abstraction1 = np.copy(abstraction)"
   ]
  },
  {
   "cell_type": "code",
   "execution_count": 46,
   "metadata": {},
   "outputs": [],
   "source": [
    "def is_sub_arr_np(a1, a2):\n",
    "    \"\"\"\n",
    "    Credits to: https://stackoverflow.com/questions/57004175/numpy-check-if-1-d-array-is-sub-array-of-another\n",
    "    \"\"\"\n",
    "    l1, = a1.shape\n",
    "    s1, = a1.strides\n",
    "    l2, = a2.shape\n",
    "    a1_win = np.lib.stride_tricks.as_strided(a1, (l1 - l2 + 1, l2), (s1, s1))\n",
    "    any_sub = np.any(np.all(a1_win == a2, axis=1))\n",
    "\n",
    "    if any_sub:\n",
    "        indices = np.where(np.all(a1_win == a2, axis=1)==True)[0][0] # return the first indices where it matches\n",
    "        return any_sub, [indices, indices+l2]\n",
    "    else:\n",
    "        return any_sub, None"
   ]
  },
  {
   "cell_type": "code",
   "execution_count": 63,
   "metadata": {},
   "outputs": [],
   "source": [
    "def append_new_action(action_history, abstraction_number, indices):\n",
    "    \"\"\"\n",
    "    action history: the successful episode history's action array\n",
    "    abstraction_number: the number representation of the new abstraction for the agent\n",
    "    \"\"\"\n",
    "    return np.concatenate([action_history[:indices[0]], np.array([abstraction_number]), action_history[indices[-1]:]])"
   ]
  },
  {
   "cell_type": "code",
   "execution_count": 96,
   "metadata": {},
   "outputs": [
    {
     "name": "stdout",
     "output_type": "stream",
     "text": [
      "[array([1, 1, 1, 4, 2, 2, 1, 1, 3, 2, 2, 4, 1, 2, 1, 4, 1, 1, 2, 5, 2, 1,\n",
      "       1, 3, 2, 1, 2, 1, 3, 3, 3, 4, 3, 3, 3, 1, 3, 3, 1, 1], dtype=int64), array([1, 1, 4, 5, 1, 1, 3, 1, 3, 1, 4, 1], dtype=int64), array([1, 1, 2, 5, 3, 1, 1, 3, 4, 3, 2, 4, 1, 1, 3, 2, 1, 3, 3, 1, 2, 1,\n",
      "       1, 1], dtype=int64), array([1, 4, 4, 5, 1, 4, 4, 1, 1, 4, 1, 3, 3, 4, 4, 2, 1, 4, 4, 4, 1, 1],\n",
      "      dtype=int64), array([1, 1, 1, 1, 4, 2, 3, 5, 1, 1, 3, 3, 1, 3, 4, 1], dtype=int64), array([1, 3, 5, 1, 1, 3, 1, 1, 2, 2, 1, 1, 1, 4, 3, 1], dtype=int64), array([1, 4, 3, 4, 4, 1, 4, 5, 4, 4, 4, 1, 4, 1, 1, 1, 4, 1], dtype=int64), array([5, 1, 3, 3, 1, 3, 1, 1, 4, 1, 4, 1, 3, 1], dtype=int64), array([3, 3, 4, 3, 3, 3, 4, 3, 3, 3, 3, 3, 3, 4, 4, 4, 3, 3, 4, 4, 3, 3,\n",
      "       3, 3, 1, 2, 5, 3, 1, 3], dtype=int64), array([1, 1, 1, 1, 3, 2, 5, 1, 1, 1, 4, 3, 4, 1], dtype=int64), array([5, 4, 1, 1, 1, 4, 1, 1, 1, 3, 4, 1], dtype=int64), array([1, 4, 4, 4, 5, 1, 4, 4, 4, 1, 3, 4, 4, 1, 1, 1, 4, 1], dtype=int64), array([5, 1, 1, 3, 4, 2, 1, 2, 3, 1, 4, 1, 1, 1, 4, 4, 1, 3, 4, 3, 4, 1],\n",
      "      dtype=int64), array([1, 1, 1, 3, 5, 3, 2, 1, 3, 4, 2, 1, 4, 3, 1, 4, 3, 3, 3, 3, 2, 3,\n",
      "       2, 1, 1, 1, 1, 2, 1, 4, 3, 1], dtype=int64), array([5, 1, 4, 2, 1, 1, 2, 1, 1, 3, 4, 1, 1, 1, 3, 3, 3, 1], dtype=int64), array([1, 4, 3, 3, 1, 1, 1, 2, 4, 5, 3, 4, 1, 4, 1, 4, 4, 1, 2, 4, 1, 3,\n",
      "       4, 3, 4, 1], dtype=int64), array([1, 4, 4, 1, 1, 3, 5, 3, 4, 3, 3, 1, 3, 3, 3, 2, 1, 1, 1, 1],\n",
      "      dtype=int64), array([5, 1, 3, 3, 1, 1, 1, 3, 3, 1, 4, 3, 1, 1], dtype=int64), array([1, 1, 1, 1, 2, 2, 5, 3, 3, 5], dtype=int64), array([3, 5, 2, 1, 1, 3, 2, 2, 1, 1, 1, 3, 2, 1, 3, 3, 3, 2, 1, 3, 3, 2,\n",
      "       2, 1, 3, 1, 4, 4, 3, 3, 3, 2, 1, 3, 4, 4, 3, 3, 1, 3], dtype=int64), array([3, 3, 5, 1, 4, 1, 2, 1, 1, 3, 3, 3, 3, 3, 3, 3, 3, 4, 3, 3, 3, 3],\n",
      "      dtype=int64), array([1, 4, 5, 1, 1, 1, 4, 1, 4, 4, 2, 1, 1, 1], dtype=int64), array([1, 4, 1, 1, 1, 1, 4, 3, 2, 5], dtype=int64), array([1, 3, 5, 3, 1, 2, 1, 1, 4, 4, 3, 4, 4, 2, 1, 3, 4, 4, 4, 4, 1, 4,\n",
      "       1, 1, 4, 4, 4, 1], dtype=int64), array([1, 1, 1, 3, 1, 2, 1, 1, 4, 5, 2, 1, 2, 2, 1, 3, 1, 3, 3, 4, 3, 4,\n",
      "       3, 2, 3, 3, 3, 4, 3, 3, 2, 2, 1, 1, 3, 3, 3, 1, 1, 4, 3, 1],\n",
      "      dtype=int64), array([5, 2, 1, 1, 1, 1, 3, 3, 3, 1, 3, 3, 1, 3, 1, 1], dtype=int64), array([5, 1, 2, 1, 2, 5, 1, 1], dtype=int64), array([5, 4, 4, 2, 3, 1, 4, 1, 1, 4, 4, 1, 2, 1, 3, 4, 1, 4, 1, 4, 4, 3,\n",
      "       4, 4, 1, 1], dtype=int64), array([1, 1, 1, 2, 3, 2, 1, 1, 1, 3, 2, 3, 1, 2, 5, 3, 3, 1, 3, 3, 3, 3,\n",
      "       1, 1, 2, 2, 1, 1, 4, 1], dtype=int64), array([1, 1, 4, 1, 2, 1, 4, 1, 3, 3, 5, 2, 3, 1, 3, 3, 3, 1, 1, 1],\n",
      "      dtype=int64), array([1, 1, 4, 1, 2, 5, 1, 4, 1, 1, 1, 1], dtype=int64), array([1, 1, 1, 3, 1, 1, 2, 1, 4, 5, 4, 1, 3, 3, 3, 1], dtype=int64), array([3, 1, 3, 3, 2, 1, 3, 3, 3, 2, 4, 3, 3, 3, 3, 3, 5, 1, 3, 3],\n",
      "      dtype=int64), array([5, 1, 3, 2, 5, 1, 2, 1, 4, 1], dtype=int64), array([5, 1, 1, 1, 2, 1, 1, 4, 1, 1, 3, 3, 3, 1], dtype=int64), array([1, 4, 1, 4, 3, 5, 1, 1, 3, 1, 4, 1, 3, 1], dtype=int64), array([1, 1, 2, 1, 2, 1, 3, 1, 1, 1, 4, 1, 4, 5, 3, 4, 3, 3, 3, 1],\n",
      "      dtype=int64), array([5, 5, 3, 3, 3, 3, 3, 3, 1, 3, 3, 2, 3, 3, 1, 1], dtype=int64), array([5, 1, 1, 1, 1, 2, 1, 3, 4, 1, 3, 2, 3, 3, 3, 2, 3, 3, 3, 3, 1, 3,\n",
      "       3, 1, 1, 1], dtype=int64), array([1, 1, 1, 3, 1, 4, 5, 1, 3, 3, 4, 3, 3, 3, 3, 4, 3, 3, 3, 3, 1, 1],\n",
      "      dtype=int64), array([1, 1, 2, 3, 4, 1, 2, 1, 1, 1, 3, 5, 3, 2, 1, 3, 3, 4, 1, 3, 3, 2,\n",
      "       3, 4, 3, 3, 1, 1, 3, 1], dtype=int64), array([5, 3, 1, 1, 4, 1, 3, 4, 3, 1, 1, 4, 1, 2, 4, 1, 2, 4, 1, 4, 2, 4,\n",
      "       2, 1, 1, 1], dtype=int64), array([3, 5, 2, 1, 1, 1, 1, 3, 3, 3, 3, 3, 4, 3, 3, 3, 2, 3, 3, 3, 1, 3],\n",
      "      dtype=int64), array([1, 4, 4, 3, 4, 4, 1, 4, 5, 4, 4, 1, 3, 2, 4, 2, 1, 2, 4, 5, 2, 1,\n",
      "       4, 1], dtype=int64), array([5, 1, 1, 4, 1, 1, 2, 1, 1, 4, 1, 4, 4, 1], dtype=int64), array([1, 1, 1, 2, 5, 2, 3, 4, 1, 1, 1, 1, 3, 3, 3, 3, 3, 2, 2, 3, 4, 3,\n",
      "       3, 1, 2, 1, 3, 1, 1, 1], dtype=int64), array([1, 1, 1, 1, 4, 5, 2, 4, 4, 4, 3, 4, 1, 4, 2, 1, 1, 4, 4, 4, 1, 1],\n",
      "      dtype=int64), array([1, 4, 1, 1, 1, 3, 2, 1, 4, 1, 2, 3, 1, 3, 2, 5, 1, 1, 4, 2, 1, 1],\n",
      "      dtype=int64), array([3, 3, 3, 3, 3, 3, 3, 1, 1, 3, 5, 3, 3, 3, 1, 3], dtype=int64), array([5, 1, 1, 4, 1, 4, 1, 1, 1, 1], dtype=int64), array([1, 3, 5, 1, 4, 3, 3, 4, 1, 3, 4, 4, 1, 2, 1, 4, 2, 1, 1, 4, 2, 1,\n",
      "       2, 3, 1, 1, 4, 4, 3, 4, 3, 4, 2, 3, 1, 4, 4, 2, 3, 2, 1, 4, 1, 2,\n",
      "       3, 4, 1, 3, 4, 2, 3, 3, 4, 4, 1, 1], dtype=int64), array([1, 3, 3, 3, 3, 3, 3, 3, 5, 1, 1, 1, 4, 1, 4, 2, 3, 3, 3, 1, 2, 2,\n",
      "       1, 1, 1, 1], dtype=int64), array([5, 5, 1, 3, 4, 3, 2, 1, 2, 4, 1, 1], dtype=int64), array([1, 1, 3, 3, 5, 1, 4, 4, 4, 4, 3, 4, 4, 4, 1, 4, 1, 4, 1, 4, 4, 1],\n",
      "      dtype=int64), array([4, 5, 4, 4, 4, 4, 4, 4, 4, 2, 1, 1, 2, 1, 4, 3, 4, 3, 2, 1],\n",
      "      dtype=int64), array([1, 4, 1, 1, 4, 5, 4, 3, 1, 3, 3, 1, 2, 1, 1, 1], dtype=int64), array([1, 1, 1, 4, 1, 2, 5, 4, 1, 1, 4, 4, 1, 1], dtype=int64), array([3, 1, 1, 1, 1, 2, 1, 1, 2, 2, 5, 3, 3, 2, 3, 3, 3, 3, 2, 3, 3, 3,\n",
      "       1, 2, 1, 1, 3, 3], dtype=int64), array([1, 4, 4, 3, 1, 2, 4, 1, 3, 4, 4, 1, 3, 2, 4, 5, 4, 2, 1, 2, 2, 2,\n",
      "       3, 1, 3, 2, 3, 4, 4, 1, 1, 1, 4, 4, 4, 1, 2, 1, 3, 3, 3, 2, 4, 4,\n",
      "       4, 3, 4, 1, 4, 1, 4, 1, 1, 2, 2, 4, 2, 2, 1, 4, 1, 2, 1, 1, 1, 2,\n",
      "       1, 2, 1, 3, 3, 1], dtype=int64), array([5, 1, 1, 2, 5, 3, 4, 3, 3, 2, 3, 4, 1, 3, 3, 3, 2, 3, 3, 3, 1, 1],\n",
      "      dtype=int64), array([1, 1, 2, 5, 1, 1, 1, 3, 1, 4, 4, 4, 4, 4, 1, 1], dtype=int64), array([1, 3, 5, 2, 1, 1, 1, 3, 3, 1, 3, 3, 3, 1, 1, 1], dtype=int64), array([1, 4, 5, 1, 1, 1, 1, 4, 4, 4, 1, 1], dtype=int64), array([1, 1, 2, 1, 3, 5, 1, 3, 3, 1, 3, 4, 3, 3, 4, 3, 4, 3, 3, 1, 1, 2,\n",
      "       1, 1], dtype=int64), array([1, 4, 5, 1, 1, 1, 3, 3, 3, 3, 3, 3, 3, 1, 1, 1], dtype=int64), array([1, 1, 1, 1, 2, 4, 3, 5, 4, 4, 3, 3, 1, 4, 4, 2, 2, 2, 1, 4, 4, 1,\n",
      "       1, 1, 4, 1, 4, 2, 4, 1, 4, 1], dtype=int64), array([1, 1, 3, 5, 1, 1, 1, 1, 4, 1], dtype=int64), array([3, 2, 5, 1, 1, 1, 1, 3, 2, 3, 2, 1, 3, 3, 3, 3, 3, 3, 3, 3, 1, 3],\n",
      "      dtype=int64), array([1, 1, 2, 3, 5, 1, 3, 1, 3, 1, 4, 1, 3, 3, 4, 3, 3, 2, 3, 2, 1, 1,\n",
      "       1, 2, 1, 2, 1, 1], dtype=int64), array([5, 4, 1, 1, 1, 3, 2, 3, 2, 1, 1, 1, 3, 3, 3, 1, 1, 1], dtype=int64), array([1, 4, 1, 3, 1, 1, 2, 4, 1, 4, 5, 1, 4, 2, 1, 4, 1, 1], dtype=int64), array([3, 1, 1, 2, 1, 1, 3, 2, 3, 5, 2, 1, 2, 1, 3, 3, 2, 1, 3, 3, 2, 3,\n",
      "       1, 3, 3, 3, 1, 3], dtype=int64), array([1, 4, 1, 1, 1, 3, 3, 5, 1, 4, 4, 4, 1, 1], dtype=int64), array([5, 4, 1, 1, 1, 1, 3, 3, 1, 1, 4, 1], dtype=int64), array([5, 1, 3, 1, 4, 2, 1, 1, 4, 4, 4, 4, 4, 1, 4, 3, 1, 1, 4, 4, 4, 3,\n",
      "       2, 4, 1, 3, 3, 4, 4, 1], dtype=int64), array([3, 5, 3, 1, 1, 3, 3, 3, 4, 3, 3, 3, 2, 3, 1, 3, 3, 2, 2, 1, 1, 3,\n",
      "       1, 2, 1, 3], dtype=int64), array([1, 3, 4, 4, 1, 4, 1, 1, 1, 3, 5, 2, 2, 1, 3, 1, 2, 1, 1, 3, 3, 1],\n",
      "      dtype=int64), array([1, 4, 3, 1, 3, 5, 1, 1, 3, 3, 3, 1, 1, 1], dtype=int64), array([5, 1, 1, 1, 4, 1, 3, 3, 3, 2, 3, 1, 3, 3, 2, 4, 1, 2, 1, 2, 1, 3,\n",
      "       3, 1, 1, 1], dtype=int64), array([1, 3, 3, 5, 1, 1, 1, 4, 1, 4, 4, 4, 2, 3, 1, 4, 3, 4, 1, 2, 1, 1],\n",
      "      dtype=int64), array([5, 1, 1, 3, 1, 3, 2, 4, 2, 1, 1, 4, 3, 4, 4, 4, 4, 3, 4, 4, 1, 4,\n",
      "       1, 4, 4, 3, 1, 4, 4, 1], dtype=int64), array([5, 5, 1, 3, 3, 1], dtype=int64), array([5, 1, 4, 1, 1, 4, 1, 1, 1, 1], dtype=int64), array([1, 4, 4, 4, 4, 5, 2, 1, 1, 1, 4, 4, 1, 3, 4, 1, 3, 3, 4, 1, 4, 4,\n",
      "       2, 1, 4, 3, 2, 1, 3, 4, 4, 2, 1, 1], dtype=int64), array([1, 1, 1, 2, 2, 4, 3, 5, 1, 1, 4, 3, 1, 4, 4, 4, 1, 4, 4, 4, 4, 3,\n",
      "       4, 4, 1, 3, 4, 1], dtype=int64), array([5, 1, 2, 1, 1, 1, 1, 2, 1, 1, 4, 1, 3, 3, 3, 1], dtype=int64), array([1, 4, 1, 1, 3, 5, 1, 4, 1, 4, 4, 1, 4, 1], dtype=int64), array([1, 1, 1, 2, 1, 3, 1, 2, 1, 2, 1, 4, 1, 1, 2, 5, 3, 3, 3, 3, 4, 4,\n",
      "       3, 2, 3, 4, 3, 2, 3, 3, 3, 1, 2, 4, 3, 1, 3, 4, 3, 3, 2, 1, 3, 1,\n",
      "       4, 3, 1, 1], dtype=int64), array([4, 2, 2, 5, 1, 4, 4, 1, 2, 4, 4, 4, 4, 4, 1, 1, 4, 2, 3, 1, 4, 4,\n",
      "       4, 4], dtype=int64), array([3, 2, 5, 1, 1, 1, 1, 3, 3, 3, 3, 3, 3, 2, 3, 1, 3, 4, 3, 3, 3, 3],\n",
      "      dtype=int64), array([5, 5, 1, 3, 3, 2, 1, 1], dtype=int64), array([1, 1, 1, 3, 5, 4, 2, 1, 3, 3, 4, 2, 1, 4, 4, 3, 3, 3, 4, 4, 1, 4,\n",
      "       4, 1, 4, 4, 4, 2, 1, 4, 4, 4, 1, 1], dtype=int64), array([5, 1, 1, 1, 1, 4, 4, 1, 1, 2, 1, 4, 4, 1], dtype=int64), array([5, 2, 1, 1, 1, 1, 3, 4, 3, 1, 3, 3, 3, 1, 1, 4, 3, 1], dtype=int64), array([1, 1, 4, 2, 1, 2, 3, 1, 2, 5, 1, 1, 1, 1, 2, 1, 1, 1], dtype=int64), array([1, 3, 5, 1, 1, 1, 3, 1, 3, 3, 1, 4, 2, 3, 1, 4, 3, 2, 2, 1, 2, 4,\n",
      "       3, 4, 3, 1, 2, 1, 1, 1], dtype=int64), array([1, 1, 1, 3, 5, 2, 3, 1, 2, 1, 3, 2, 3, 1, 2, 1, 3, 1, 3, 1, 1, 1],\n",
      "      dtype=int64), array([5, 1, 1, 1, 2, 2, 1, 1], dtype=int64), array([1, 1, 3, 5, 4, 4, 1, 3, 4, 3, 2, 2, 4, 1, 1, 3, 3, 3, 1, 3, 2, 1,\n",
      "       3, 4, 3, 1, 4, 3, 2, 1, 1, 2, 1, 2, 2, 1, 1, 1], dtype=int64), array([3, 1, 2, 3, 3, 3, 4, 3, 3, 4, 3, 3, 4, 3, 3, 3, 3, 3, 5, 4, 2, 1,\n",
      "       3, 3, 1, 3], dtype=int64), array([1, 4, 4, 4, 4, 5, 1, 4, 4, 2, 1, 1, 4, 1, 1, 1, 2, 2, 1, 3, 4, 3,\n",
      "       4, 1, 4, 1], dtype=int64), array([1, 1, 1, 1, 2, 5, 3, 1, 3, 2, 1, 3, 2, 2, 2, 1, 1, 1, 3, 1, 4, 3,\n",
      "       4, 2, 3, 1, 4, 3, 1, 1], dtype=int64), array([1, 3, 4, 4, 3, 1, 2, 5, 3, 3, 1, 4, 2, 1, 4, 1, 1, 4, 1, 4, 1, 3,\n",
      "       4, 4, 4, 1], dtype=int64), array([5, 1, 2, 1, 3, 2, 1, 3, 4, 1, 1, 1, 3, 1, 4, 1, 3, 2, 1, 4, 4, 3,\n",
      "       4, 1], dtype=int64), array([1, 1, 3, 2, 1, 2, 4, 1, 3, 5, 2, 1, 3, 1, 4, 4, 1, 4, 4, 4, 4, 3,\n",
      "       4, 4, 4, 1, 4, 1, 2, 4, 1, 1], dtype=int64), array([1, 1, 2, 1, 1, 3, 1, 4, 5, 3, 4, 3, 3, 3, 3, 3, 3, 1, 1, 1],\n",
      "      dtype=int64), array([1, 3, 1, 1, 1, 2, 5, 3, 1, 3, 3, 3, 3, 3, 3, 3, 3, 1, 2, 4, 3, 1,\n",
      "       1, 1], dtype=int64), array([5, 1, 2, 1, 1, 1, 1, 3, 3, 2, 1, 3, 4, 4, 3, 3, 3, 3, 4, 3, 2, 3,\n",
      "       3, 1, 3, 1, 1, 4, 4, 4, 3, 3, 3, 4, 3, 1], dtype=int64), array([4, 2, 5, 4, 1, 4, 4, 2, 1, 4, 2, 4, 4, 3, 3, 4, 4, 1, 4, 2, 2, 1,\n",
      "       2, 4, 3, 2, 1, 1, 2, 1, 4, 2, 3, 2, 1, 3, 2, 1, 2, 1, 4, 1, 1, 2,\n",
      "       1, 1, 2, 1, 4, 4, 4, 3, 4, 4], dtype=int64), array([3, 2, 5, 1, 1, 1, 1, 2, 1, 3, 3, 3, 3, 3, 3, 3, 2, 2, 1, 3, 3, 3,\n",
      "       1, 3], dtype=int64), array([1, 3, 5, 1, 1, 2, 1, 4, 2, 1, 1, 4, 1, 4, 1, 4, 4, 1], dtype=int64), array([5, 1, 1, 1, 1, 2, 1, 1, 3, 3, 3, 3, 3, 3, 2, 2, 3, 1, 3, 1, 2, 3,\n",
      "       2, 3, 2, 5], dtype=int64), array([5, 3, 1, 3, 1, 1, 1, 3, 3, 4, 3, 2, 4, 3, 3, 1, 3, 3, 3, 3, 3, 1,\n",
      "       1, 1], dtype=int64), array([1, 3, 1, 1, 2, 1, 4, 1, 1, 2, 2, 1, 1, 2, 5, 1, 3, 3, 3, 3, 3, 1,\n",
      "       4, 3, 3, 3, 2, 1, 3, 1], dtype=int64), array([1, 1, 2, 1, 1, 3, 5, 4, 4, 1, 4, 2, 4, 1, 1, 4, 2, 4, 1, 4, 4, 4,\n",
      "       1, 1], dtype=int64)]\n"
     ]
    }
   ],
   "source": [
    "new_actions = []\n",
    "for i in range(len(episode_history)):\n",
    "    # get the episode actions\n",
    "    ep_act = episode_history[i].act\n",
    "\n",
    "    is_sub = True\n",
    "    any_change = False\n",
    "    while is_sub:\n",
    "        is_sub, indices = is_sub_arr_np(ep_act, abstraction)\n",
    "        if is_sub:\n",
    "            # the 5 NEEDS TO BE CHANGED TO MODEL NUMBER REPRESENTATION\n",
    "            ep_act = append_new_action(ep_act, 5, indices)\n",
    "            any_change = True\n",
    "\n",
    "    if any_change:\n",
    "        new_actions.append(ep_act)\n",
    "        any_change = False\n",
    "\n",
    "print(new_actions)"
   ]
  },
  {
   "cell_type": "code",
   "execution_count": 113,
   "metadata": {},
   "outputs": [
    {
     "name": "stderr",
     "output_type": "stream",
     "text": [
      "f:\\Desktop\\University\\Exeter\\ECMM451 Final Year Project\\Final_Year_Project\\maze_env\\envs\\mazelib.py:32: DeprecationWarning: Seeding based on hashing is deprecated\n",
      "since Python 3.9 and will be removed in a subsequent version. The only \n",
      "supported seed types are: None, int, float, str, bytes, and bytearray.\n",
      "  random.seed(seed)\n"
     ]
    }
   ],
   "source": [
    "maze = preprocess_maze_env(render_mode='human', size=6)\n",
    "maze.reset()\n",
    "maze.render()"
   ]
  },
  {
   "cell_type": "code",
   "execution_count": 114,
   "metadata": {},
   "outputs": [
    {
     "data": {
      "text/plain": [
       "({'agent_id': 'observer',\n",
       "  'obs': array([[[1., 1., 1., 1., 1., 1., 1., 1., 1., 1., 1., 1., 1.],\n",
       "          [1., 0., 0., 0., 0., 0., 1., 0., 0., 0., 0., 0., 1.],\n",
       "          [1., 0., 1., 1., 1., 0., 1., 0., 1., 0., 1., 1., 1.],\n",
       "          [1., 0., 0., 0., 1., 0., 1., 0., 1., 0., 0., 0., 1.],\n",
       "          [1., 1., 1., 0., 1., 0., 1., 0., 1., 1., 1., 0., 1.],\n",
       "          [1., 0., 0., 0., 1., 0., 1., 0., 0., 0., 1., 0., 1.],\n",
       "          [1., 0., 1., 1., 1., 0., 1., 0., 1., 1., 1., 0., 1.],\n",
       "          [1., 0., 0., 0., 1., 0., 0., 0., 1., 0., 0., 0., 1.],\n",
       "          [1., 1., 1., 0., 1., 1., 1., 1., 1., 0., 1., 0., 1.],\n",
       "          [1., 0., 1., 0., 1., 0., 1., 0., 0., 0., 1., 0., 1.],\n",
       "          [1., 0., 1., 0., 1., 0., 1., 0., 1., 1., 1., 0., 1.],\n",
       "          [1., 0., 0., 0., 0., 0., 1., 0., 1., 0., 0., 0., 1.],\n",
       "          [1., 1., 1., 1., 1., 1., 1., 1., 1., 1., 1., 1., 1.]],\n",
       "  \n",
       "         [[0., 0., 0., 0., 0., 0., 0., 0., 0., 0., 0., 0., 0.],\n",
       "          [0., 0., 0., 0., 0., 0., 0., 0., 0., 0., 0., 0., 0.],\n",
       "          [0., 0., 0., 0., 0., 0., 0., 0., 0., 0., 0., 0., 0.],\n",
       "          [0., 0., 0., 0., 0., 0., 0., 0., 0., 0., 0., 0., 0.],\n",
       "          [0., 0., 0., 0., 0., 0., 0., 0., 0., 0., 0., 0., 0.],\n",
       "          [0., 0., 0., 0., 0., 0., 0., 0., 0., 0., 0., 0., 0.],\n",
       "          [0., 0., 0., 0., 0., 0., 0., 0., 0., 0., 0., 0., 0.],\n",
       "          [0., 0., 0., 0., 0., 0., 0., 0., 0., 0., 0., 0., 0.],\n",
       "          [0., 0., 0., 1., 0., 0., 0., 0., 0., 0., 0., 0., 0.],\n",
       "          [0., 0., 0., 0., 0., 0., 0., 0., 0., 0., 0., 0., 0.],\n",
       "          [0., 0., 0., 0., 0., 0., 0., 0., 0., 0., 0., 0., 0.],\n",
       "          [0., 0., 0., 0., 0., 0., 0., 0., 0., 0., 0., 0., 0.],\n",
       "          [0., 0., 0., 0., 0., 0., 0., 0., 0., 0., 0., 0., 0.]],\n",
       "  \n",
       "         [[0., 0., 0., 0., 0., 0., 0., 0., 0., 0., 0., 0., 0.],\n",
       "          [0., 0., 0., 0., 0., 0., 0., 0., 0., 0., 0., 0., 0.],\n",
       "          [0., 0., 0., 0., 0., 0., 0., 0., 0., 0., 0., 0., 0.],\n",
       "          [0., 0., 0., 1., 0., 0., 0., 0., 0., 0., 0., 0., 0.],\n",
       "          [0., 0., 0., 0., 0., 0., 0., 0., 0., 0., 0., 0., 0.],\n",
       "          [0., 0., 0., 0., 0., 0., 0., 0., 0., 0., 0., 0., 0.],\n",
       "          [0., 0., 0., 0., 0., 0., 0., 0., 0., 0., 0., 0., 0.],\n",
       "          [0., 0., 0., 0., 0., 0., 0., 0., 0., 0., 0., 0., 0.],\n",
       "          [0., 0., 0., 0., 0., 0., 0., 0., 0., 0., 0., 0., 0.],\n",
       "          [0., 0., 0., 0., 0., 0., 0., 0., 0., 0., 0., 0., 0.],\n",
       "          [0., 0., 0., 0., 0., 0., 0., 0., 0., 0., 0., 0., 0.],\n",
       "          [0., 0., 0., 0., 0., 0., 0., 0., 0., 0., 0., 0., 0.],\n",
       "          [0., 0., 0., 0., 0., 0., 0., 0., 0., 0., 0., 0., 0.]]]),\n",
       "  'mask': [False, True, True, False, False]},\n",
       " [-0.0007042253521126761],\n",
       " False,\n",
       " False,\n",
       " {})"
      ]
     },
     "execution_count": 114,
     "metadata": {},
     "output_type": "execute_result"
    }
   ],
   "source": [
    "action = 1\n",
    "obs = maze.step(action)"
   ]
  },
  {
   "cell_type": "code",
   "execution_count": 110,
   "metadata": {},
   "outputs": [
    {
     "data": {
      "text/plain": [
       "({'agent_id': 'observer',\n",
       "  'obs': array([[[1., 1., 1., 1., 1., 1., 1., 1., 1., 1., 1., 1., 1.],\n",
       "          [1., 0., 0., 0., 0., 0., 1., 0., 0., 0., 0., 0., 1.],\n",
       "          [1., 0., 1., 1., 1., 0., 1., 0., 1., 0., 1., 1., 1.],\n",
       "          [1., 0., 0., 0., 1., 0., 1., 0., 1., 0., 0., 0., 1.],\n",
       "          [1., 1., 1., 0., 1., 0., 1., 0., 1., 1., 1., 0., 1.],\n",
       "          [1., 0., 0., 0., 1., 0., 1., 0., 0., 0., 1., 0., 1.],\n",
       "          [1., 0., 1., 1., 1., 0., 1., 0., 1., 1., 1., 0., 1.],\n",
       "          [1., 0., 0., 0., 1., 0., 0., 0., 1., 0., 0., 0., 1.],\n",
       "          [1., 1., 1., 0., 1., 1., 1., 1., 1., 0., 1., 0., 1.],\n",
       "          [1., 0., 1., 0., 1., 0., 1., 0., 0., 0., 1., 0., 1.],\n",
       "          [1., 0., 1., 0., 1., 0., 1., 0., 1., 1., 1., 0., 1.],\n",
       "          [1., 0., 0., 0., 0., 0., 1., 0., 1., 0., 0., 0., 1.],\n",
       "          [1., 1., 1., 1., 1., 1., 1., 1., 1., 1., 1., 1., 1.]],\n",
       "  \n",
       "         [[0., 0., 0., 0., 0., 0., 0., 0., 0., 0., 0., 0., 0.],\n",
       "          [0., 0., 0., 0., 0., 0., 0., 0., 0., 0., 0., 0., 0.],\n",
       "          [0., 0., 0., 0., 0., 0., 0., 0., 0., 0., 0., 0., 0.],\n",
       "          [0., 0., 0., 1., 0., 0., 0., 0., 0., 0., 0., 0., 0.],\n",
       "          [0., 0., 0., 0., 0., 0., 0., 0., 0., 0., 0., 0., 0.],\n",
       "          [0., 0., 0., 0., 0., 0., 0., 0., 0., 0., 0., 0., 0.],\n",
       "          [0., 0., 0., 0., 0., 0., 0., 0., 0., 0., 0., 0., 0.],\n",
       "          [0., 0., 0., 0., 0., 0., 0., 0., 0., 0., 0., 0., 0.],\n",
       "          [0., 0., 0., 0., 0., 0., 0., 0., 0., 0., 0., 0., 0.],\n",
       "          [0., 0., 0., 0., 0., 0., 0., 0., 0., 0., 0., 0., 0.],\n",
       "          [0., 0., 0., 0., 0., 0., 0., 0., 0., 0., 0., 0., 0.],\n",
       "          [0., 0., 0., 0., 0., 0., 0., 0., 0., 0., 0., 0., 0.],\n",
       "          [0., 0., 0., 0., 0., 0., 0., 0., 0., 0., 0., 0., 0.]],\n",
       "  \n",
       "         [[0., 0., 0., 0., 0., 0., 0., 0., 0., 0., 0., 0., 0.],\n",
       "          [0., 0., 0., 0., 0., 0., 0., 0., 0., 0., 0., 0., 0.],\n",
       "          [0., 0., 0., 0., 0., 0., 0., 0., 0., 0., 0., 0., 0.],\n",
       "          [0., 0., 0., 1., 0., 0., 0., 0., 0., 0., 0., 0., 0.],\n",
       "          [0., 0., 0., 0., 0., 0., 0., 0., 0., 0., 0., 0., 0.],\n",
       "          [0., 0., 0., 0., 0., 0., 0., 0., 0., 0., 0., 0., 0.],\n",
       "          [0., 0., 0., 0., 0., 0., 0., 0., 0., 0., 0., 0., 0.],\n",
       "          [0., 0., 0., 0., 0., 0., 0., 0., 0., 0., 0., 0., 0.],\n",
       "          [0., 0., 0., 0., 0., 0., 0., 0., 0., 0., 0., 0., 0.],\n",
       "          [0., 0., 0., 0., 0., 0., 0., 0., 0., 0., 0., 0., 0.],\n",
       "          [0., 0., 0., 0., 0., 0., 0., 0., 0., 0., 0., 0., 0.],\n",
       "          [0., 0., 0., 0., 0., 0., 0., 0., 0., 0., 0., 0., 0.],\n",
       "          [0., 0., 0., 0., 0., 0., 0., 0., 0., 0., 0., 0., 0.]]]),\n",
       "  'mask': [False, False, True, False, True]},\n",
       " [1],\n",
       " True,\n",
       " False,\n",
       " {})"
      ]
     },
     "execution_count": 110,
     "metadata": {},
     "output_type": "execute_result"
    }
   ],
   "source": [
    "agent_id, act,  = "
   ]
  },
  {
   "cell_type": "code",
   "execution_count": 111,
   "metadata": {},
   "outputs": [
    {
     "data": {
      "text/plain": [
       "Batch(\n",
       "    obs: Batch(\n",
       "             obs: array([[[[1., 1., 1., ..., 1., 1., 1.],\n",
       "                           [1., 0., 0., ..., 0., 0., 1.],\n",
       "                           [1., 0., 0., ..., 0., 0., 1.],\n",
       "                           ...,\n",
       "                           [1., 0., 0., ..., 0., 0., 1.],\n",
       "                           [1., 0., 0., ..., 0., 0., 1.],\n",
       "                           [1., 1., 1., ..., 1., 1., 1.]],\n",
       "                  \n",
       "                          [[0., 0., 0., ..., 0., 0., 0.],\n",
       "                           [0., 0., 0., ..., 0., 0., 0.],\n",
       "                           [0., 0., 0., ..., 0., 0., 0.],\n",
       "                           ...,\n",
       "                           [0., 0., 0., ..., 0., 0., 0.],\n",
       "                           [0., 0., 0., ..., 0., 0., 0.],\n",
       "                           [0., 0., 0., ..., 0., 0., 0.]],\n",
       "                  \n",
       "                          [[0., 0., 0., ..., 0., 1., 0.],\n",
       "                           [0., 0., 0., ..., 0., 0., 0.],\n",
       "                           [0., 0., 0., ..., 0., 0., 0.],\n",
       "                           ...,\n",
       "                           [0., 0., 0., ..., 0., 0., 0.],\n",
       "                           [0., 0., 0., ..., 0., 0., 0.],\n",
       "                           [0., 0., 0., ..., 0., 0., 0.]]],\n",
       "                  \n",
       "                  \n",
       "                         [[[1., 1., 1., ..., 1., 1., 1.],\n",
       "                           [1., 0., 0., ..., 0., 0., 1.],\n",
       "                           [1., 0., 0., ..., 0., 0., 1.],\n",
       "                           ...,\n",
       "                           [1., 0., 0., ..., 0., 0., 1.],\n",
       "                           [1., 0., 0., ..., 0., 0., 1.],\n",
       "                           [1., 1., 1., ..., 1., 1., 1.]],\n",
       "                  \n",
       "                          [[0., 0., 0., ..., 0., 0., 0.],\n",
       "                           [0., 0., 0., ..., 0., 0., 0.],\n",
       "                           [0., 0., 0., ..., 0., 0., 0.],\n",
       "                           ...,\n",
       "                           [0., 0., 0., ..., 0., 0., 0.],\n",
       "                           [0., 0., 0., ..., 0., 0., 0.],\n",
       "                           [0., 0., 0., ..., 0., 0., 0.]],\n",
       "                  \n",
       "                          [[0., 0., 0., ..., 0., 1., 0.],\n",
       "                           [0., 0., 0., ..., 0., 0., 0.],\n",
       "                           [0., 0., 0., ..., 0., 0., 0.],\n",
       "                           ...,\n",
       "                           [0., 0., 0., ..., 0., 0., 0.],\n",
       "                           [0., 0., 0., ..., 0., 0., 0.],\n",
       "                           [0., 0., 0., ..., 0., 0., 0.]]],\n",
       "                  \n",
       "                  \n",
       "                         [[[1., 1., 1., ..., 1., 1., 1.],\n",
       "                           [1., 0., 0., ..., 0., 0., 1.],\n",
       "                           [1., 0., 0., ..., 0., 0., 1.],\n",
       "                           ...,\n",
       "                           [1., 0., 0., ..., 0., 0., 1.],\n",
       "                           [1., 0., 0., ..., 0., 0., 1.],\n",
       "                           [1., 1., 1., ..., 1., 1., 1.]],\n",
       "                  \n",
       "                          [[0., 0., 0., ..., 0., 0., 0.],\n",
       "                           [0., 0., 0., ..., 0., 0., 0.],\n",
       "                           [0., 0., 0., ..., 0., 0., 0.],\n",
       "                           ...,\n",
       "                           [0., 0., 0., ..., 0., 0., 0.],\n",
       "                           [0., 0., 0., ..., 0., 0., 0.],\n",
       "                           [0., 0., 0., ..., 0., 0., 0.]],\n",
       "                  \n",
       "                          [[0., 0., 0., ..., 0., 1., 0.],\n",
       "                           [0., 0., 0., ..., 0., 0., 0.],\n",
       "                           [0., 0., 0., ..., 0., 0., 0.],\n",
       "                           ...,\n",
       "                           [0., 0., 0., ..., 0., 0., 0.],\n",
       "                           [0., 0., 0., ..., 0., 0., 0.],\n",
       "                           [0., 0., 0., ..., 0., 0., 0.]]],\n",
       "                  \n",
       "                  \n",
       "                         ...,\n",
       "                  \n",
       "                  \n",
       "                         [[[1., 1., 1., ..., 1., 1., 1.],\n",
       "                           [1., 0., 0., ..., 0., 0., 1.],\n",
       "                           [1., 0., 0., ..., 0., 0., 1.],\n",
       "                           ...,\n",
       "                           [1., 0., 0., ..., 0., 0., 1.],\n",
       "                           [1., 0., 0., ..., 0., 0., 1.],\n",
       "                           [1., 1., 1., ..., 1., 1., 1.]],\n",
       "                  \n",
       "                          [[0., 0., 0., ..., 0., 0., 0.],\n",
       "                           [0., 0., 0., ..., 0., 0., 0.],\n",
       "                           [0., 0., 0., ..., 1., 0., 0.],\n",
       "                           ...,\n",
       "                           [0., 0., 0., ..., 0., 0., 0.],\n",
       "                           [0., 0., 0., ..., 0., 0., 0.],\n",
       "                           [0., 0., 0., ..., 0., 0., 0.]],\n",
       "                  \n",
       "                          [[0., 0., 0., ..., 0., 1., 0.],\n",
       "                           [0., 0., 0., ..., 0., 0., 0.],\n",
       "                           [0., 0., 0., ..., 0., 0., 0.],\n",
       "                           ...,\n",
       "                           [0., 0., 0., ..., 0., 0., 0.],\n",
       "                           [0., 0., 0., ..., 0., 0., 0.],\n",
       "                           [0., 0., 0., ..., 0., 0., 0.]]],\n",
       "                  \n",
       "                  \n",
       "                         [[[1., 1., 1., ..., 1., 1., 1.],\n",
       "                           [1., 0., 0., ..., 0., 0., 1.],\n",
       "                           [1., 0., 0., ..., 0., 0., 1.],\n",
       "                           ...,\n",
       "                           [1., 0., 0., ..., 0., 0., 1.],\n",
       "                           [1., 0., 0., ..., 0., 0., 1.],\n",
       "                           [1., 1., 1., ..., 1., 1., 1.]],\n",
       "                  \n",
       "                          [[0., 0., 0., ..., 0., 0., 0.],\n",
       "                           [0., 0., 0., ..., 0., 0., 0.],\n",
       "                           [0., 0., 0., ..., 0., 1., 0.],\n",
       "                           ...,\n",
       "                           [0., 0., 0., ..., 0., 0., 0.],\n",
       "                           [0., 0., 0., ..., 0., 0., 0.],\n",
       "                           [0., 0., 0., ..., 0., 0., 0.]],\n",
       "                  \n",
       "                          [[0., 0., 0., ..., 0., 1., 0.],\n",
       "                           [0., 0., 0., ..., 0., 0., 0.],\n",
       "                           [0., 0., 0., ..., 0., 0., 0.],\n",
       "                           ...,\n",
       "                           [0., 0., 0., ..., 0., 0., 0.],\n",
       "                           [0., 0., 0., ..., 0., 0., 0.],\n",
       "                           [0., 0., 0., ..., 0., 0., 0.]]],\n",
       "                  \n",
       "                  \n",
       "                         [[[1., 1., 1., ..., 1., 1., 1.],\n",
       "                           [1., 0., 0., ..., 0., 0., 1.],\n",
       "                           [1., 0., 0., ..., 0., 0., 1.],\n",
       "                           ...,\n",
       "                           [1., 0., 0., ..., 0., 0., 1.],\n",
       "                           [1., 0., 0., ..., 0., 0., 1.],\n",
       "                           [1., 1., 1., ..., 1., 1., 1.]],\n",
       "                  \n",
       "                          [[0., 0., 0., ..., 0., 0., 0.],\n",
       "                           [0., 0., 0., ..., 0., 1., 0.],\n",
       "                           [0., 0., 0., ..., 0., 0., 0.],\n",
       "                           ...,\n",
       "                           [0., 0., 0., ..., 0., 0., 0.],\n",
       "                           [0., 0., 0., ..., 0., 0., 0.],\n",
       "                           [0., 0., 0., ..., 0., 0., 0.]],\n",
       "                  \n",
       "                          [[0., 0., 0., ..., 0., 1., 0.],\n",
       "                           [0., 0., 0., ..., 0., 0., 0.],\n",
       "                           [0., 0., 0., ..., 0., 0., 0.],\n",
       "                           ...,\n",
       "                           [0., 0., 0., ..., 0., 0., 0.],\n",
       "                           [0., 0., 0., ..., 0., 0., 0.],\n",
       "                           [0., 0., 0., ..., 0., 0., 0.]]]]),\n",
       "             agent_id: array(['observer', 'observer', 'observer', 'observer', 'observer',\n",
       "                              'observer', 'observer', 'observer', 'observer', 'observer',\n",
       "                              'observer', 'observer', 'observer', 'observer', 'observer',\n",
       "                              'observer', 'observer', 'observer', 'observer', 'observer',\n",
       "                              'observer', 'observer', 'observer', 'observer', 'observer',\n",
       "                              'observer', 'observer', 'observer', 'observer', 'observer',\n",
       "                              'observer', 'observer', 'observer', 'observer', 'observer',\n",
       "                              'observer', 'observer', 'observer', 'observer', 'observer',\n",
       "                              'observer', 'observer', 'observer', 'observer'], dtype=object),\n",
       "             mask: array([[False,  True, False, False, False],\n",
       "                          [False,  True, False,  True,  True],\n",
       "                          [False,  True,  True,  True,  True],\n",
       "                          [False,  True,  True,  True,  True],\n",
       "                          [False,  True,  True,  True,  True],\n",
       "                          [False,  True,  True,  True,  True],\n",
       "                          [False,  True, False,  True,  True],\n",
       "                          [False,  True,  True,  True,  True],\n",
       "                          [False,  True,  True,  True,  True],\n",
       "                          [False,  True,  True,  True,  True],\n",
       "                          [False,  True,  True,  True,  True],\n",
       "                          [False,  True, False,  True,  True],\n",
       "                          [False,  True, False,  True,  True],\n",
       "                          [False,  True,  True,  True,  True],\n",
       "                          [False,  True, False,  True,  True],\n",
       "                          [False,  True,  True,  True,  True],\n",
       "                          [False,  True,  True,  True,  True],\n",
       "                          [False,  True,  True,  True,  True],\n",
       "                          [False,  True,  True,  True,  True],\n",
       "                          [False,  True,  True,  True,  True],\n",
       "                          [False,  True,  True,  True,  True],\n",
       "                          [False,  True,  True,  True,  True],\n",
       "                          [False,  True,  True,  True,  True],\n",
       "                          [False,  True,  True,  True,  True],\n",
       "                          [False,  True,  True,  True,  True],\n",
       "                          [False,  True,  True,  True,  True],\n",
       "                          [False,  True,  True,  True,  True],\n",
       "                          [False,  True,  True,  True,  True],\n",
       "                          [False,  True,  True,  True,  True],\n",
       "                          [False,  True,  True,  True,  True],\n",
       "                          [False,  True,  True,  True,  True],\n",
       "                          [False,  True,  True,  True,  True],\n",
       "                          [False,  True,  True,  True,  True],\n",
       "                          [False,  True,  True,  True,  True],\n",
       "                          [False,  True,  True,  True,  True],\n",
       "                          [False,  True,  True,  True,  True],\n",
       "                          [False,  True,  True,  True,  True],\n",
       "                          [False,  True,  True,  True,  True],\n",
       "                          [False,  True,  True,  True,  True],\n",
       "                          [False,  True,  True,  True,  True],\n",
       "                          [False,  True,  True,  True,  True],\n",
       "                          [False,  True,  True,  True,  True],\n",
       "                          [False,  True,  True, False,  True],\n",
       "                          [False,  True,  True, False,  True]]),\n",
       "         ),\n",
       "    act: array([1, 1, 1, 4, 2, 2, 1, 1, 3, 2, 2, 4, 1, 2, 1, 4, 1, 1, 2, 1, 1, 1,\n",
       "                1, 1, 2, 1, 1, 3, 2, 1, 2, 1, 3, 3, 3, 4, 3, 3, 3, 1, 3, 3, 1, 1],\n",
       "               dtype=int64),\n",
       "    rew: array([[-8.26446281e-04],\n",
       "                [-8.26446281e-04],\n",
       "                [-8.26446281e-04],\n",
       "                [-8.26446281e-04],\n",
       "                [-8.26446281e-04],\n",
       "                [-8.26446281e-04],\n",
       "                [-1.65289256e-03],\n",
       "                [-1.65289256e-03],\n",
       "                [-1.65289256e-03],\n",
       "                [-1.65289256e-03],\n",
       "                [-1.65289256e-03],\n",
       "                [-1.65289256e-03],\n",
       "                [-1.65289256e-03],\n",
       "                [-1.65289256e-03],\n",
       "                [-1.65289256e-03],\n",
       "                [-8.26446281e-04],\n",
       "                [-8.26446281e-04],\n",
       "                [-8.26446281e-04],\n",
       "                [-1.65289256e-03],\n",
       "                [-1.65289256e-03],\n",
       "                [-8.26446281e-04],\n",
       "                [-8.26446281e-04],\n",
       "                [-8.26446281e-04],\n",
       "                [-8.26446281e-04],\n",
       "                [-1.65289256e-03],\n",
       "                [-1.65289256e-03],\n",
       "                [-8.26446281e-04],\n",
       "                [-8.26446281e-04],\n",
       "                [-8.26446281e-04],\n",
       "                [-1.65289256e-03],\n",
       "                [-1.65289256e-03],\n",
       "                [-1.65289256e-03],\n",
       "                [-8.26446281e-04],\n",
       "                [-8.26446281e-04],\n",
       "                [-8.26446281e-04],\n",
       "                [-1.65289256e-03],\n",
       "                [-1.65289256e-03],\n",
       "                [-8.26446281e-04],\n",
       "                [-8.26446281e-04],\n",
       "                [-8.26446281e-04],\n",
       "                [-8.26446281e-04],\n",
       "                [-8.26446281e-04],\n",
       "                [-8.26446281e-04],\n",
       "                [ 1.00000000e+00]]),\n",
       "    terminated: array([False, False, False, False, False, False, False, False, False,\n",
       "                       False, False, False, False, False, False, False, False, False,\n",
       "                       False, False, False, False, False, False, False, False, False,\n",
       "                       False, False, False, False, False, False, False, False, False,\n",
       "                       False, False, False, False, False, False, False,  True]),\n",
       "    truncated: array([False, False, False, False, False, False, False, False, False,\n",
       "                      False, False, False, False, False, False, False, False, False,\n",
       "                      False, False, False, False, False, False, False, False, False,\n",
       "                      False, False, False, False, False, False, False, False, False,\n",
       "                      False, False, False, False, False, False, False, False]),\n",
       "    done: array([False, False, False, False, False, False, False, False, False,\n",
       "                 False, False, False, False, False, False, False, False, False,\n",
       "                 False, False, False, False, False, False, False, False, False,\n",
       "                 False, False, False, False, False, False, False, False, False,\n",
       "                 False, False, False, False, False, False, False,  True]),\n",
       "    obs_next: Batch(\n",
       "                  obs: array([[[[1., 1., 1., ..., 1., 1., 1.],\n",
       "                                [1., 0., 0., ..., 0., 0., 1.],\n",
       "                                [1., 0., 0., ..., 0., 0., 1.],\n",
       "                                ...,\n",
       "                                [1., 0., 0., ..., 0., 0., 1.],\n",
       "                                [1., 0., 0., ..., 0., 0., 1.],\n",
       "                                [1., 1., 1., ..., 1., 1., 1.]],\n",
       "                       \n",
       "                               [[0., 0., 0., ..., 0., 0., 0.],\n",
       "                                [0., 0., 0., ..., 0., 0., 0.],\n",
       "                                [0., 0., 0., ..., 0., 0., 0.],\n",
       "                                ...,\n",
       "                                [0., 0., 0., ..., 0., 0., 0.],\n",
       "                                [0., 0., 0., ..., 0., 0., 0.],\n",
       "                                [0., 0., 0., ..., 0., 0., 0.]],\n",
       "                       \n",
       "                               [[0., 0., 0., ..., 0., 1., 0.],\n",
       "                                [0., 0., 0., ..., 0., 0., 0.],\n",
       "                                [0., 0., 0., ..., 0., 0., 0.],\n",
       "                                ...,\n",
       "                                [0., 0., 0., ..., 0., 0., 0.],\n",
       "                                [0., 0., 0., ..., 0., 0., 0.],\n",
       "                                [0., 0., 0., ..., 0., 0., 0.]]],\n",
       "                       \n",
       "                       \n",
       "                              [[[1., 1., 1., ..., 1., 1., 1.],\n",
       "                                [1., 0., 0., ..., 0., 0., 1.],\n",
       "                                [1., 0., 0., ..., 0., 0., 1.],\n",
       "                                ...,\n",
       "                                [1., 0., 0., ..., 0., 0., 1.],\n",
       "                                [1., 0., 0., ..., 0., 0., 1.],\n",
       "                                [1., 1., 1., ..., 1., 1., 1.]],\n",
       "                       \n",
       "                               [[0., 0., 0., ..., 0., 0., 0.],\n",
       "                                [0., 0., 0., ..., 0., 0., 0.],\n",
       "                                [0., 0., 0., ..., 0., 0., 0.],\n",
       "                                ...,\n",
       "                                [0., 0., 0., ..., 0., 0., 0.],\n",
       "                                [0., 0., 0., ..., 0., 0., 0.],\n",
       "                                [0., 0., 0., ..., 0., 0., 0.]],\n",
       "                       \n",
       "                               [[0., 0., 0., ..., 0., 1., 0.],\n",
       "                                [0., 0., 0., ..., 0., 0., 0.],\n",
       "                                [0., 0., 0., ..., 0., 0., 0.],\n",
       "                                ...,\n",
       "                                [0., 0., 0., ..., 0., 0., 0.],\n",
       "                                [0., 0., 0., ..., 0., 0., 0.],\n",
       "                                [0., 0., 0., ..., 0., 0., 0.]]],\n",
       "                       \n",
       "                       \n",
       "                              [[[1., 1., 1., ..., 1., 1., 1.],\n",
       "                                [1., 0., 0., ..., 0., 0., 1.],\n",
       "                                [1., 0., 0., ..., 0., 0., 1.],\n",
       "                                ...,\n",
       "                                [1., 0., 0., ..., 0., 0., 1.],\n",
       "                                [1., 0., 0., ..., 0., 0., 1.],\n",
       "                                [1., 1., 1., ..., 1., 1., 1.]],\n",
       "                       \n",
       "                               [[0., 0., 0., ..., 0., 0., 0.],\n",
       "                                [0., 0., 0., ..., 0., 0., 0.],\n",
       "                                [0., 0., 0., ..., 0., 0., 0.],\n",
       "                                ...,\n",
       "                                [0., 0., 0., ..., 0., 0., 0.],\n",
       "                                [0., 0., 0., ..., 0., 0., 0.],\n",
       "                                [0., 0., 0., ..., 0., 0., 0.]],\n",
       "                       \n",
       "                               [[0., 0., 0., ..., 0., 1., 0.],\n",
       "                                [0., 0., 0., ..., 0., 0., 0.],\n",
       "                                [0., 0., 0., ..., 0., 0., 0.],\n",
       "                                ...,\n",
       "                                [0., 0., 0., ..., 0., 0., 0.],\n",
       "                                [0., 0., 0., ..., 0., 0., 0.],\n",
       "                                [0., 0., 0., ..., 0., 0., 0.]]],\n",
       "                       \n",
       "                       \n",
       "                              ...,\n",
       "                       \n",
       "                       \n",
       "                              [[[1., 1., 1., ..., 1., 1., 1.],\n",
       "                                [1., 0., 0., ..., 0., 0., 1.],\n",
       "                                [1., 0., 0., ..., 0., 0., 1.],\n",
       "                                ...,\n",
       "                                [1., 0., 0., ..., 0., 0., 1.],\n",
       "                                [1., 0., 0., ..., 0., 0., 1.],\n",
       "                                [1., 1., 1., ..., 1., 1., 1.]],\n",
       "                       \n",
       "                               [[0., 0., 0., ..., 0., 0., 0.],\n",
       "                                [0., 0., 0., ..., 0., 0., 0.],\n",
       "                                [0., 0., 0., ..., 0., 1., 0.],\n",
       "                                ...,\n",
       "                                [0., 0., 0., ..., 0., 0., 0.],\n",
       "                                [0., 0., 0., ..., 0., 0., 0.],\n",
       "                                [0., 0., 0., ..., 0., 0., 0.]],\n",
       "                       \n",
       "                               [[0., 0., 0., ..., 0., 1., 0.],\n",
       "                                [0., 0., 0., ..., 0., 0., 0.],\n",
       "                                [0., 0., 0., ..., 0., 0., 0.],\n",
       "                                ...,\n",
       "                                [0., 0., 0., ..., 0., 0., 0.],\n",
       "                                [0., 0., 0., ..., 0., 0., 0.],\n",
       "                                [0., 0., 0., ..., 0., 0., 0.]]],\n",
       "                       \n",
       "                       \n",
       "                              [[[1., 1., 1., ..., 1., 1., 1.],\n",
       "                                [1., 0., 0., ..., 0., 0., 1.],\n",
       "                                [1., 0., 0., ..., 0., 0., 1.],\n",
       "                                ...,\n",
       "                                [1., 0., 0., ..., 0., 0., 1.],\n",
       "                                [1., 0., 0., ..., 0., 0., 1.],\n",
       "                                [1., 1., 1., ..., 1., 1., 1.]],\n",
       "                       \n",
       "                               [[0., 0., 0., ..., 0., 0., 0.],\n",
       "                                [0., 0., 0., ..., 0., 1., 0.],\n",
       "                                [0., 0., 0., ..., 0., 0., 0.],\n",
       "                                ...,\n",
       "                                [0., 0., 0., ..., 0., 0., 0.],\n",
       "                                [0., 0., 0., ..., 0., 0., 0.],\n",
       "                                [0., 0., 0., ..., 0., 0., 0.]],\n",
       "                       \n",
       "                               [[0., 0., 0., ..., 0., 1., 0.],\n",
       "                                [0., 0., 0., ..., 0., 0., 0.],\n",
       "                                [0., 0., 0., ..., 0., 0., 0.],\n",
       "                                ...,\n",
       "                                [0., 0., 0., ..., 0., 0., 0.],\n",
       "                                [0., 0., 0., ..., 0., 0., 0.],\n",
       "                                [0., 0., 0., ..., 0., 0., 0.]]],\n",
       "                       \n",
       "                       \n",
       "                              [[[1., 1., 1., ..., 1., 1., 1.],\n",
       "                                [1., 0., 0., ..., 0., 0., 1.],\n",
       "                                [1., 0., 0., ..., 0., 0., 1.],\n",
       "                                ...,\n",
       "                                [1., 0., 0., ..., 0., 0., 1.],\n",
       "                                [1., 0., 0., ..., 0., 0., 1.],\n",
       "                                [1., 1., 1., ..., 1., 1., 1.]],\n",
       "                       \n",
       "                               [[0., 0., 0., ..., 0., 1., 0.],\n",
       "                                [0., 0., 0., ..., 0., 0., 0.],\n",
       "                                [0., 0., 0., ..., 0., 0., 0.],\n",
       "                                ...,\n",
       "                                [0., 0., 0., ..., 0., 0., 0.],\n",
       "                                [0., 0., 0., ..., 0., 0., 0.],\n",
       "                                [0., 0., 0., ..., 0., 0., 0.]],\n",
       "                       \n",
       "                               [[0., 0., 0., ..., 0., 1., 0.],\n",
       "                                [0., 0., 0., ..., 0., 0., 0.],\n",
       "                                [0., 0., 0., ..., 0., 0., 0.],\n",
       "                                ...,\n",
       "                                [0., 0., 0., ..., 0., 0., 0.],\n",
       "                                [0., 0., 0., ..., 0., 0., 0.],\n",
       "                                [0., 0., 0., ..., 0., 0., 0.]]]]),\n",
       "                  agent_id: array(['observer', 'observer', 'observer', 'observer', 'observer',\n",
       "                                   'observer', 'observer', 'observer', 'observer', 'observer',\n",
       "                                   'observer', 'observer', 'observer', 'observer', 'observer',\n",
       "                                   'observer', 'observer', 'observer', 'observer', 'observer',\n",
       "                                   'observer', 'observer', 'observer', 'observer', 'observer',\n",
       "                                   'observer', 'observer', 'observer', 'observer', 'observer',\n",
       "                                   'observer', 'observer', 'observer', 'observer', 'observer',\n",
       "                                   'observer', 'observer', 'observer', 'observer', 'observer',\n",
       "                                   'observer', 'observer', 'observer', 'observer'], dtype=object),\n",
       "                  mask: array([[False,  True, False,  True,  True],\n",
       "                               [False,  True,  True,  True,  True],\n",
       "                               [False,  True,  True,  True,  True],\n",
       "                               [False,  True,  True,  True,  True],\n",
       "                               [False,  True,  True,  True,  True],\n",
       "                               [False,  True, False,  True,  True],\n",
       "                               [False,  True,  True,  True,  True],\n",
       "                               [False,  True,  True,  True,  True],\n",
       "                               [False,  True,  True,  True,  True],\n",
       "                               [False,  True,  True,  True,  True],\n",
       "                               [False,  True, False,  True,  True],\n",
       "                               [False,  True, False,  True,  True],\n",
       "                               [False,  True,  True,  True,  True],\n",
       "                               [False,  True, False,  True,  True],\n",
       "                               [False,  True,  True,  True,  True],\n",
       "                               [False,  True,  True,  True,  True],\n",
       "                               [False,  True,  True,  True,  True],\n",
       "                               [False,  True,  True,  True,  True],\n",
       "                               [False,  True,  True,  True,  True],\n",
       "                               [False,  True,  True,  True,  True],\n",
       "                               [False,  True,  True,  True,  True],\n",
       "                               [False,  True,  True,  True,  True],\n",
       "                               [False,  True,  True,  True,  True],\n",
       "                               [False,  True,  True,  True,  True],\n",
       "                               [False,  True,  True,  True,  True],\n",
       "                               [False,  True,  True,  True,  True],\n",
       "                               [False,  True,  True,  True,  True],\n",
       "                               [False,  True,  True,  True,  True],\n",
       "                               [False,  True,  True,  True,  True],\n",
       "                               [False,  True,  True,  True,  True],\n",
       "                               [False,  True,  True,  True,  True],\n",
       "                               [False,  True,  True,  True,  True],\n",
       "                               [False,  True,  True,  True,  True],\n",
       "                               [False,  True,  True,  True,  True],\n",
       "                               [False,  True,  True,  True,  True],\n",
       "                               [False,  True,  True,  True,  True],\n",
       "                               [False,  True,  True,  True,  True],\n",
       "                               [False,  True,  True,  True,  True],\n",
       "                               [False,  True,  True,  True,  True],\n",
       "                               [False,  True,  True,  True,  True],\n",
       "                               [False,  True,  True,  True,  True],\n",
       "                               [False,  True,  True, False,  True],\n",
       "                               [False,  True,  True, False,  True],\n",
       "                               [False, False,  True, False, False]]),\n",
       "              ),\n",
       "    info: Batch(\n",
       "              env_id: array([0, 0, 0, 0, 0, 0, 0, 0, 0, 0, 0, 0, 0, 0, 0, 0, 0, 0, 0, 0, 0, 0,\n",
       "                             0, 0, 0, 0, 0, 0, 0, 0, 0, 0, 0, 0, 0, 0, 0, 0, 0, 0, 0, 0, 0, 0]),\n",
       "          ),\n",
       "    policy: Batch(),\n",
       ")"
      ]
     },
     "execution_count": 111,
     "metadata": {},
     "output_type": "execute_result"
    }
   ],
   "source": [
    "episode_history[0]\n"
   ]
  },
  {
   "cell_type": "code",
   "execution_count": null,
   "metadata": {},
   "outputs": [],
   "source": [
    "new_ep_hist2 = np.concatenate([ep_act[:indices[0]], np.array([5]), ep_act[indices[-1]:]])\n",
    "print(new_ep_hist)"
   ]
  },
  {
   "cell_type": "code",
   "execution_count": 20,
   "metadata": {},
   "outputs": [],
   "source": [
    "a1 = ep_act\n",
    "a2 = abstraction\n",
    "\n",
    "l1, = a1.shape\n",
    "s1, = a1.strides\n",
    "l2, = a2.shape\n",
    "a1_win = np.lib.stride_tricks.as_strided(a1, (l1 - l2 + 1, l2), (s1, s1))\n",
    "#np.any(np.all(a1_win == a2, axis=1))"
   ]
  },
  {
   "cell_type": "code",
   "execution_count": 27,
   "metadata": {},
   "outputs": [
    {
     "data": {
      "text/plain": [
       "array([[1, 1, 1, 1],\n",
       "       [1, 1, 1, 1],\n",
       "       [1, 1, 1, 2],\n",
       "       [1, 1, 2, 1],\n",
       "       [1, 2, 1, 1],\n",
       "       [2, 1, 1, 2],\n",
       "       [1, 1, 2, 2],\n",
       "       [1, 2, 2, 4],\n",
       "       [2, 2, 4, 1],\n",
       "       [2, 4, 1, 3],\n",
       "       [4, 1, 3, 1],\n",
       "       [1, 3, 1, 1],\n",
       "       [3, 1, 1, 3],\n",
       "       [1, 1, 3, 1],\n",
       "       [1, 3, 1, 1],\n",
       "       [3, 1, 1, 1],\n",
       "       [1, 1, 1, 1],\n",
       "       [1, 1, 1, 2],\n",
       "       [1, 1, 2, 1],\n",
       "       [1, 2, 1, 4],\n",
       "       [2, 1, 4, 1]], dtype=int64)"
      ]
     },
     "execution_count": 27,
     "metadata": {},
     "output_type": "execute_result"
    }
   ],
   "source": [
    "a1_win"
   ]
  },
  {
   "cell_type": "code",
   "execution_count": 30,
   "metadata": {},
   "outputs": [
    {
     "data": {
      "text/plain": [
       "array([ 0,  1, 16], dtype=int64)"
      ]
     },
     "execution_count": 30,
     "metadata": {},
     "output_type": "execute_result"
    }
   ],
   "source": [
    "indices = np.where(np.all(a1_win == a2, axis=1)==True)[0]\n",
    "indices"
   ]
  },
  {
   "cell_type": "code",
   "execution_count": 15,
   "metadata": {},
   "outputs": [
    {
     "data": {
      "text/plain": [
       "True"
      ]
     },
     "execution_count": 15,
     "metadata": {},
     "output_type": "execute_result"
    }
   ],
   "source": [
    "is_sub_arr_np(episode_history[1].act, abstraction)"
   ]
  },
  {
   "cell_type": "code",
   "execution_count": 18,
   "metadata": {},
   "outputs": [],
   "source": [
    "ep_act"
   ]
  },
  {
   "cell_type": "code",
   "execution_count": 83,
   "metadata": {},
   "outputs": [
    {
     "data": {
      "text/plain": [
       "array(['121', '44444', '444444', '1111', '44244', '44414', '12', '11111',\n",
       "       '2444', '111', '1211', '2111', '21111', '1114', '444', '11141',\n",
       "       '1444', '434', '112111', '212', '123', '11114', '121111', '42',\n",
       "       '422', '111111', '333333', '4441', '444414', '41114', '412', '21',\n",
       "       '4444144', '444441', '442', '244', '11444', '31111', '11113',\n",
       "       '321', '211', '421', '1444444', '411141', '24', '144', '144444',\n",
       "       '2322', '4444444', '133', '1311', '4144', '44441', '111141', '14',\n",
       "       '4442', '224', '312', '12111', '344', '31', '1112', '111114',\n",
       "       '4444', '111444', '222242', '113', '22242', '4443', '4411', '4111',\n",
       "       '2121', '124', '1244', '33333', '2224', '43444', '342', '43333',\n",
       "       '112', '1121111', '3444', '4444441', '14414', '11211', '41444',\n",
       "       '441444', '214', '142', '11', '334', '441', '233', '1141', '221',\n",
       "       '232', '44434', '34', '11414', '2222224', '1121', '243', '414444',\n",
       "       '144414', '2223', '41444444', '433', '343', '32', '333', '14441',\n",
       "       '11112', '1144', '1411', '4212', '1413', '2244', '1111211',\n",
       "       '433333', '424', '1144444', '111311', '424444', '4444414', '11411',\n",
       "       '22222', '2211', '4424', '1234', '3222', '42444', '2442', '3214',\n",
       "       '41', '4121', '2232', '431', '332', '331', '44', '13', '4341',\n",
       "       '2314', '442444', '111211', '4222', '141', '4124', '444442',\n",
       "       '114441', '422222', '444341', '222422', '1434', '4422', '3331',\n",
       "       '114', '1123', '1144414', '1411141', '3444444', '44222', '44144',\n",
       "       '33', '341', '432', '231', '3343', '4224', '11111111', '2123',\n",
       "       '4214', '2321', '1343', '3434', '11211113', '111113', '244244',\n",
       "       '213', '14114', '43434', '22232', '131', '111131', '442244',\n",
       "       '24222', '242', '44111', '44412', '44422', '33313', '23222',\n",
       "       '4434', '1424', '1132', '4312', '1221', '3441', '1232', '3333323',\n",
       "       '4221', '1134', '4342', '3333', '241', '234', '324', '222',\n",
       "       '414444444', '23', '43', '2', '32222', '34444', '41111', '33332',\n",
       "       '44442', '33213', '14444', '11144', '22122', '1242', '214414',\n",
       "       '434344', '11121111', '4414', '3144', '3321', '122', '444141',\n",
       "       '211113', '444144', '3212', '414344', '3442', '4244', '22', '132',\n",
       "       '223', '333433', '3121', '333323', '24444144', '1111114', '414',\n",
       "       '3333333', '4333333', '443', '1111313', '423', '2223222',\n",
       "       '4444442', '1111444', '1111131', '2212', '41441', '22444', '3342',\n",
       "       '22233', '24443', '2243', '4412', '43121', '2441', '22224',\n",
       "       '13331', '4333', '2113', '31333', '21114', '4112', '33343',\n",
       "       '31442', '21211', '44141', '4122', '41144', '24444', '3443',\n",
       "       '1312', '1214', '222223', '121211', '444414444', '222222', '4',\n",
       "       '411144444', '413', '111413', '122222', '414411', '444244',\n",
       "       '131111', '444444442', '322', '411', '441441', '441114', '411114',\n",
       "       '211111', '444414414', '1', '44111444', '2333', '44444414',\n",
       "       '44414344', '14444444', '4142', '11111131', '11144444', '3344',\n",
       "       '2421', '2144', '3133', '4231', '1431', '2422', '1124', '44441344',\n",
       "       '2143', '44444441', '4413', '44444412', '4433', '11131111',\n",
       "       '11211111', '4432', '2334', '14444441', '4133', '44424', '43243',\n",
       "       '12321', '41324', '21411', '143', '43214', '42142', '13111',\n",
       "       '11131', '14321', '24232', '22244', '44344', '41344', '23224',\n",
       "       '14443', '33123', '23212', '42222', '33311', '14212', '22111',\n",
       "       '41211', '3444414', '2244244', '1234333', '4442224', '1333111',\n",
       "       '4442442', '1311111', '1113111', '3133311', '4111411', '4141114',\n",
       "       '4444413', '4424444', '4112111', '4444222', '3333343', '2222242',\n",
       "       '2222422', '1434444', '2222232', '1111113', '1444441', '333343',\n",
       "       '141114', '1334', '4343', '133311', '2434', '2242', '4233', '2431',\n",
       "       '2133', '441434', '111124', '444443', '2142', '3422', '244424',\n",
       "       '344444', '444434', '1224', '4114', '441421', '142121', '144411',\n",
       "       '233333', '4323', '314', '3123', '2231', '414414', '223222',\n",
       "       '443434', '2221', '311', '443333', '141141', '442222', '1442',\n",
       "       '1331', '311111', '411414', '222232', '3423', '232242', '1333',\n",
       "       '4143', '343333', '143131', '222423', '313123', '442441', '333111',\n",
       "       '244414', '3412', '221212', '413444', '111431', '4141', '321333',\n",
       "       '2412', '222412', '333332', '322122', '242322', '3433', '1233',\n",
       "       '444111', '4132', '1223', '442442', '141311444444', '11144444144',\n",
       "       '44444134441', '22222222242', '22333332322', '44441441421',\n",
       "       '3344333333', '34333', '1441411141', '42123', '43442',\n",
       "       '4411144444', '32223', '42333', '33421', '12314', '1141444444',\n",
       "       '14144', '13311', '32142', '24342', '44411', '3', '13344', '31213',\n",
       "       '33232', '11231', '21441', '23341', '41141', '31312', '43342',\n",
       "       '34331', '23144', '33131', '14134', '4444441214', '41431', '21244',\n",
       "       '12141', '23422', '14411', '11214', '12322', '21112', '12212',\n",
       "       '4124444144', '44142', '2222322221', '33112', '14442', '13114',\n",
       "       '13333', '42244', '4444444444', '1444444444', '43411', '11321',\n",
       "       '21444', '14344', '31331', '1144444414', '24423', '4444444442',\n",
       "       '4441434444', '21431', '11122', '12121', '41222', '31233', '24441',\n",
       "       '24411', '4143444414', '13214', '44214', '2222232222', '44133',\n",
       "       '41241', '2444414444', '32143', '1442222232', '43312', '44433',\n",
       "       '111211113', '444444422', '112111131', '111311111', '333333233',\n",
       "       '111114313', '111121111', '141121441', '344444441', '342222222',\n",
       "       '111111112', '433333433', '111211111', '424444144', '222222242',\n",
       "       '111111313', '444442224', '444434344', '141114112', '422222324',\n",
       "       '331333111', '112311112', '121111313', '111111111', '222232222',\n",
       "       '333334331', '111121144', '3124', '4241', '4131', '42322122',\n",
       "       '33333433', '11113111', '14414441', '4234', '14313123', '1243',\n",
       "       '41121114', '2433', '2234', '11113441', '3131', '1344', '42444441',\n",
       "       '1441', '44144414', '14211444', '44344244', '11444444', '1231',\n",
       "       '3213', '11111331', '4324', '33333311', '1421', '2134', '3244',\n",
       "       '1212', '34343444', '34441111', '1321', '44444444', '32223333',\n",
       "       '1323', '23222222', '3224', '22442444', '44244444', '2124', '4423',\n",
       "       '12111131', '11111211', '11113133', '43444444', '22242322', '2411',\n",
       "       '24442442', '42212121', '1222', '12241124', '3234', '3211', '2332',\n",
       "       '44444442', '33444444', '1241', '41434444', '44444423', '14344444',\n",
       "       '4113', '13133311', '1113', '3242', '14441414', '22244433',\n",
       "       '42222232', '2222', '33333343', '3432', '11144414', '22222422',\n",
       "       '21111113', '1133', '44444434', '4134', '31111211', '34333333',\n",
       "       '4321', '12343333', '1144434', '3333332', '2442441', '1333333',\n",
       "       '2442212', '4111444', '4344444', '1424444', '3111111', '3213333',\n",
       "       '3444341', '4443411', '1311444', '4111413', '2111132', '1114144',\n",
       "       '4142121', '1111243', '4444434', '4442244', '2333333', '1214414',\n",
       "       '1144411', '3333123', '2114441', '1111143', '4414441', '1114111',\n",
       "       '1111141', '2111113', '1111412', '2321111', '2232224', '4441442',\n",
       "       '4421344', '3342123', '1113114', '4431444', '1143214', '1432144',\n",
       "       '1211113', '2412224', '1211114', '1111311', '4113414', '1344411',\n",
       "       '1114134', '2322122', '4444221', '4424423', '1112311', '1324441',\n",
       "       '1441141', '4122222', '2433333', '3111141', '2444143', '1411411',\n",
       "       '4111141', '4441431', '4142444', '2241222', '4133313', '4422124',\n",
       "       '4114142', '1111413', '4444422', '1141121', '4244444', '3334333',\n",
       "       '412413', '434444', '444124', '441234', '212322', '344411',\n",
       "       '443144', '222244', '412344', '222212', '114421', '442344',\n",
       "       '344441', '221223', '441134', '333133', '224212', '441411', '323',\n",
       "       '311112', '123222', '331312', '123212', '113112', '224124',\n",
       "       '411444', '344123', '411324', '141144', '114414', '144144',\n",
       "       '444422', '444344', '142444', '431213', '211343', '234413',\n",
       "       '222221', '114431', '333131', '421111', '343444', '444113',\n",
       "       '321434', '214113', '212111', '414114', '421211', '244142',\n",
       "       '442212', '434222', '141132', '421411', '232334', '413244',\n",
       "       '113344', '444143', '241222', '331331', '233412', '333434',\n",
       "       '222434', '232123', '343121', '321424', '222112', '314421',\n",
       "       '111132', '241111', '133133', '114321', '114144', '334343',\n",
       "       '242422', '212333', '441242', '144213', '223333', '321244',\n",
       "       '133444', '424144', '214114', '113214', '411111', '342211',\n",
       "       '214442', '142414', '111133', '431111', '143214', '441214',\n",
       "       '312321', '221222', '114112', '114114', '444222', '121441',\n",
       "       '313121', '132244', '134', '211224', '112311', '414132', '344133',\n",
       "       '134441', '213444', '212442', '144211', '243422', '331311',\n",
       "       '143411', '243122', '121112', '133111', '111411', '422124',\n",
       "       '334323', '112431', '44113', '21322', '32313', '11134', '11242',\n",
       "       '11311', '34221', '34434', '24442', '41414', '24312', '31413',\n",
       "       '34413', '11124', '41234', '44114', '12113', '13444', '43231',\n",
       "       '33133', '43422', '32441', '43441', '22314', '32113', '13414',\n",
       "       '42422', '41134', '22113', '21123', '34121', '43412', '44112',\n",
       "       '41232', '44124', '22321', '34222', '41242', '23141', '22234',\n",
       "       '42212', '13432', '22123', '24332', '23442', '21214', '31444',\n",
       "       '44241', '44421', '21311', '12413', '13222', '22223', '13123',\n",
       "       '11341', '44413', '22442', '24422', '41413', '21424', '41423',\n",
       "       '24414', '24122', '14343', '42141', '11333', '23344', '44432',\n",
       "       '41311', '41343', '42224', '42322', '34343', '41411', '22211',\n",
       "       '23223', '32344', '22323', '23143', '43144', '22332', '41321',\n",
       "       '41424', '11243', '22342', '33122', '22412', '22434', '11221',\n",
       "       '12214', '33111', '14341', '34341', '23133', '14111', '12444',\n",
       "       '42211', '12441', '12122', '14133', '24214', '41212', '11322',\n",
       "       '11424', '13433', '12131', '12114', '21242', '14231', '44132',\n",
       "       '21421', '23122', '44221', '42114', '32321', '21133', '33331',\n",
       "       '12411', '12222', '34342', '21113', '31221', '43413', '21422',\n",
       "       '33434', '2342', '1213', '3223', '4123', '4334', '1142', '3312',\n",
       "       '3141', '2331', '1414', '4211', '4314', '4421', '2141', '4243',\n",
       "       '4344', '1422', '3323', '3112', '2323', '4232', '2423', '2311',\n",
       "       '3111', '3122', '2241', '1143', '2432', '2341', '2344', '3311',\n",
       "       '2233', '4331', '3421', '3313', '313', ''], dtype='<U12')"
      ]
     },
     "execution_count": 83,
     "metadata": {},
     "output_type": "execute_result"
    }
   ],
   "source": [
    "np.array(list(LCS_counter.keys()))[np.argsort(-np.array(ratings))]"
   ]
  },
  {
   "cell_type": "code",
   "execution_count": 12,
   "metadata": {},
   "outputs": [
    {
     "data": {
      "text/plain": [
       "[[0, 0, 0, 0, 0],\n",
       " [0, 0, 0, 0, 0],\n",
       " [0, 0, 0, 0, 0],\n",
       " [0, 0, 0, 0, 0],\n",
       " [0, 0, 0, 0, 0],\n",
       " [0, 0, 0, 0, 0],\n",
       " [0, 0, 0, 0, 0],\n",
       " [0, 0, 0, 0, 0],\n",
       " [0, 0, 0, 0, 0]]"
      ]
     },
     "execution_count": 12,
     "metadata": {},
     "output_type": "execute_result"
    }
   ],
   "source": [
    "[[0 for k in range(len('asdad'))] for l in range(len('asdasdada'))]"
   ]
  }
 ],
 "metadata": {
  "kernelspec": {
   "display_name": "base",
   "language": "python",
   "name": "python3"
  },
  "language_info": {
   "codemirror_mode": {
    "name": "ipython",
    "version": 3
   },
   "file_extension": ".py",
   "mimetype": "text/x-python",
   "name": "python",
   "nbconvert_exporter": "python",
   "pygments_lexer": "ipython3",
   "version": "3.9.13"
  },
  "orig_nbformat": 4
 },
 "nbformat": 4,
 "nbformat_minor": 2
}
